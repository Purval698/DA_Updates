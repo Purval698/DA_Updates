{
 "cells": [
  {
   "cell_type": "code",
   "execution_count": 34,
   "id": "2264cce2",
   "metadata": {},
   "outputs": [],
   "source": [
    "import numpy as np\n",
    "import pandas as pd\n",
    "import seaborn as sns\n",
    "import matplotlib.pyplot as plt"
   ]
  },
  {
   "cell_type": "code",
   "execution_count": 3,
   "id": "fed84f68",
   "metadata": {},
   "outputs": [],
   "source": [
    "df1 = pd.read_csv(\"Plant_2_Generation_Data.csv\")"
   ]
  },
  {
   "cell_type": "code",
   "execution_count": 4,
   "id": "82faecde",
   "metadata": {},
   "outputs": [
    {
     "data": {
      "text/html": [
       "<div>\n",
       "<style scoped>\n",
       "    .dataframe tbody tr th:only-of-type {\n",
       "        vertical-align: middle;\n",
       "    }\n",
       "\n",
       "    .dataframe tbody tr th {\n",
       "        vertical-align: top;\n",
       "    }\n",
       "\n",
       "    .dataframe thead th {\n",
       "        text-align: right;\n",
       "    }\n",
       "</style>\n",
       "<table border=\"1\" class=\"dataframe\">\n",
       "  <thead>\n",
       "    <tr style=\"text-align: right;\">\n",
       "      <th></th>\n",
       "      <th>DATE_TIME</th>\n",
       "      <th>PLANT_ID</th>\n",
       "      <th>SOURCE_KEY</th>\n",
       "      <th>DC_POWER</th>\n",
       "      <th>AC_POWER</th>\n",
       "      <th>DAILY_YIELD</th>\n",
       "      <th>TOTAL_YIELD</th>\n",
       "    </tr>\n",
       "  </thead>\n",
       "  <tbody>\n",
       "    <tr>\n",
       "      <th>0</th>\n",
       "      <td>2020-05-15 00:00:00</td>\n",
       "      <td>4136001</td>\n",
       "      <td>4UPUqMRk7TRMgml</td>\n",
       "      <td>0.0</td>\n",
       "      <td>0.0</td>\n",
       "      <td>9425.000000</td>\n",
       "      <td>2.429011e+06</td>\n",
       "    </tr>\n",
       "    <tr>\n",
       "      <th>1</th>\n",
       "      <td>2020-05-15 00:00:00</td>\n",
       "      <td>4136001</td>\n",
       "      <td>81aHJ1q11NBPMrL</td>\n",
       "      <td>0.0</td>\n",
       "      <td>0.0</td>\n",
       "      <td>0.000000</td>\n",
       "      <td>1.215279e+09</td>\n",
       "    </tr>\n",
       "    <tr>\n",
       "      <th>2</th>\n",
       "      <td>2020-05-15 00:00:00</td>\n",
       "      <td>4136001</td>\n",
       "      <td>9kRcWv60rDACzjR</td>\n",
       "      <td>0.0</td>\n",
       "      <td>0.0</td>\n",
       "      <td>3075.333333</td>\n",
       "      <td>2.247720e+09</td>\n",
       "    </tr>\n",
       "    <tr>\n",
       "      <th>3</th>\n",
       "      <td>2020-05-15 00:00:00</td>\n",
       "      <td>4136001</td>\n",
       "      <td>Et9kgGMDl729KT4</td>\n",
       "      <td>0.0</td>\n",
       "      <td>0.0</td>\n",
       "      <td>269.933333</td>\n",
       "      <td>1.704250e+06</td>\n",
       "    </tr>\n",
       "    <tr>\n",
       "      <th>4</th>\n",
       "      <td>2020-05-15 00:00:00</td>\n",
       "      <td>4136001</td>\n",
       "      <td>IQ2d7wF4YD8zU1Q</td>\n",
       "      <td>0.0</td>\n",
       "      <td>0.0</td>\n",
       "      <td>3177.000000</td>\n",
       "      <td>1.994153e+07</td>\n",
       "    </tr>\n",
       "  </tbody>\n",
       "</table>\n",
       "</div>"
      ],
      "text/plain": [
       "             DATE_TIME  PLANT_ID       SOURCE_KEY  DC_POWER  AC_POWER  \\\n",
       "0  2020-05-15 00:00:00   4136001  4UPUqMRk7TRMgml       0.0       0.0   \n",
       "1  2020-05-15 00:00:00   4136001  81aHJ1q11NBPMrL       0.0       0.0   \n",
       "2  2020-05-15 00:00:00   4136001  9kRcWv60rDACzjR       0.0       0.0   \n",
       "3  2020-05-15 00:00:00   4136001  Et9kgGMDl729KT4       0.0       0.0   \n",
       "4  2020-05-15 00:00:00   4136001  IQ2d7wF4YD8zU1Q       0.0       0.0   \n",
       "\n",
       "   DAILY_YIELD   TOTAL_YIELD  \n",
       "0  9425.000000  2.429011e+06  \n",
       "1     0.000000  1.215279e+09  \n",
       "2  3075.333333  2.247720e+09  \n",
       "3   269.933333  1.704250e+06  \n",
       "4  3177.000000  1.994153e+07  "
      ]
     },
     "execution_count": 4,
     "metadata": {},
     "output_type": "execute_result"
    }
   ],
   "source": [
    "df1.head()"
   ]
  },
  {
   "cell_type": "code",
   "execution_count": 5,
   "id": "30e57736",
   "metadata": {},
   "outputs": [],
   "source": [
    "df2 = pd.read_csv(\"Plant_2_Weather_Sensor_Data.csv\")"
   ]
  },
  {
   "cell_type": "code",
   "execution_count": 6,
   "id": "13adb5c3",
   "metadata": {},
   "outputs": [
    {
     "data": {
      "text/html": [
       "<div>\n",
       "<style scoped>\n",
       "    .dataframe tbody tr th:only-of-type {\n",
       "        vertical-align: middle;\n",
       "    }\n",
       "\n",
       "    .dataframe tbody tr th {\n",
       "        vertical-align: top;\n",
       "    }\n",
       "\n",
       "    .dataframe thead th {\n",
       "        text-align: right;\n",
       "    }\n",
       "</style>\n",
       "<table border=\"1\" class=\"dataframe\">\n",
       "  <thead>\n",
       "    <tr style=\"text-align: right;\">\n",
       "      <th></th>\n",
       "      <th>DATE_TIME</th>\n",
       "      <th>PLANT_ID</th>\n",
       "      <th>SOURCE_KEY</th>\n",
       "      <th>AMBIENT_TEMPERATURE</th>\n",
       "      <th>MODULE_TEMPERATURE</th>\n",
       "      <th>IRRADIATION</th>\n",
       "    </tr>\n",
       "  </thead>\n",
       "  <tbody>\n",
       "    <tr>\n",
       "      <th>0</th>\n",
       "      <td>2020-05-15 00:00:00</td>\n",
       "      <td>4136001</td>\n",
       "      <td>iq8k7ZNt4Mwm3w0</td>\n",
       "      <td>27.004764</td>\n",
       "      <td>25.060789</td>\n",
       "      <td>0.0</td>\n",
       "    </tr>\n",
       "    <tr>\n",
       "      <th>1</th>\n",
       "      <td>2020-05-15 00:15:00</td>\n",
       "      <td>4136001</td>\n",
       "      <td>iq8k7ZNt4Mwm3w0</td>\n",
       "      <td>26.880811</td>\n",
       "      <td>24.421869</td>\n",
       "      <td>0.0</td>\n",
       "    </tr>\n",
       "    <tr>\n",
       "      <th>2</th>\n",
       "      <td>2020-05-15 00:30:00</td>\n",
       "      <td>4136001</td>\n",
       "      <td>iq8k7ZNt4Mwm3w0</td>\n",
       "      <td>26.682055</td>\n",
       "      <td>24.427290</td>\n",
       "      <td>0.0</td>\n",
       "    </tr>\n",
       "    <tr>\n",
       "      <th>3</th>\n",
       "      <td>2020-05-15 00:45:00</td>\n",
       "      <td>4136001</td>\n",
       "      <td>iq8k7ZNt4Mwm3w0</td>\n",
       "      <td>26.500589</td>\n",
       "      <td>24.420678</td>\n",
       "      <td>0.0</td>\n",
       "    </tr>\n",
       "    <tr>\n",
       "      <th>4</th>\n",
       "      <td>2020-05-15 01:00:00</td>\n",
       "      <td>4136001</td>\n",
       "      <td>iq8k7ZNt4Mwm3w0</td>\n",
       "      <td>26.596148</td>\n",
       "      <td>25.088210</td>\n",
       "      <td>0.0</td>\n",
       "    </tr>\n",
       "  </tbody>\n",
       "</table>\n",
       "</div>"
      ],
      "text/plain": [
       "             DATE_TIME  PLANT_ID       SOURCE_KEY  AMBIENT_TEMPERATURE  \\\n",
       "0  2020-05-15 00:00:00   4136001  iq8k7ZNt4Mwm3w0            27.004764   \n",
       "1  2020-05-15 00:15:00   4136001  iq8k7ZNt4Mwm3w0            26.880811   \n",
       "2  2020-05-15 00:30:00   4136001  iq8k7ZNt4Mwm3w0            26.682055   \n",
       "3  2020-05-15 00:45:00   4136001  iq8k7ZNt4Mwm3w0            26.500589   \n",
       "4  2020-05-15 01:00:00   4136001  iq8k7ZNt4Mwm3w0            26.596148   \n",
       "\n",
       "   MODULE_TEMPERATURE  IRRADIATION  \n",
       "0           25.060789          0.0  \n",
       "1           24.421869          0.0  \n",
       "2           24.427290          0.0  \n",
       "3           24.420678          0.0  \n",
       "4           25.088210          0.0  "
      ]
     },
     "execution_count": 6,
     "metadata": {},
     "output_type": "execute_result"
    }
   ],
   "source": [
    "df2.head()"
   ]
  },
  {
   "cell_type": "code",
   "execution_count": 7,
   "id": "69648c83",
   "metadata": {},
   "outputs": [
    {
     "data": {
      "text/plain": [
       "(67698, 7)"
      ]
     },
     "execution_count": 7,
     "metadata": {},
     "output_type": "execute_result"
    }
   ],
   "source": [
    "df1.shape"
   ]
  },
  {
   "cell_type": "code",
   "execution_count": 8,
   "id": "3311b7d6",
   "metadata": {},
   "outputs": [
    {
     "data": {
      "text/plain": [
       "(3259, 6)"
      ]
     },
     "execution_count": 8,
     "metadata": {},
     "output_type": "execute_result"
    }
   ],
   "source": [
    "df2.shape"
   ]
  },
  {
   "cell_type": "code",
   "execution_count": 9,
   "id": "413dd38c",
   "metadata": {},
   "outputs": [],
   "source": [
    "merged_df = pd.merge(df1, df2, on=['DATE_TIME', 'PLANT_ID'], how='outer')"
   ]
  },
  {
   "cell_type": "code",
   "execution_count": 10,
   "id": "9e56d007",
   "metadata": {},
   "outputs": [
    {
     "data": {
      "text/html": [
       "<div>\n",
       "<style scoped>\n",
       "    .dataframe tbody tr th:only-of-type {\n",
       "        vertical-align: middle;\n",
       "    }\n",
       "\n",
       "    .dataframe tbody tr th {\n",
       "        vertical-align: top;\n",
       "    }\n",
       "\n",
       "    .dataframe thead th {\n",
       "        text-align: right;\n",
       "    }\n",
       "</style>\n",
       "<table border=\"1\" class=\"dataframe\">\n",
       "  <thead>\n",
       "    <tr style=\"text-align: right;\">\n",
       "      <th></th>\n",
       "      <th>DATE_TIME</th>\n",
       "      <th>PLANT_ID</th>\n",
       "      <th>SOURCE_KEY_x</th>\n",
       "      <th>DC_POWER</th>\n",
       "      <th>AC_POWER</th>\n",
       "      <th>DAILY_YIELD</th>\n",
       "      <th>TOTAL_YIELD</th>\n",
       "      <th>SOURCE_KEY_y</th>\n",
       "      <th>AMBIENT_TEMPERATURE</th>\n",
       "      <th>MODULE_TEMPERATURE</th>\n",
       "      <th>IRRADIATION</th>\n",
       "    </tr>\n",
       "  </thead>\n",
       "  <tbody>\n",
       "    <tr>\n",
       "      <th>0</th>\n",
       "      <td>2020-05-15 00:00:00</td>\n",
       "      <td>4136001</td>\n",
       "      <td>4UPUqMRk7TRMgml</td>\n",
       "      <td>0.0</td>\n",
       "      <td>0.0</td>\n",
       "      <td>9425.000000</td>\n",
       "      <td>2.429011e+06</td>\n",
       "      <td>iq8k7ZNt4Mwm3w0</td>\n",
       "      <td>27.004764</td>\n",
       "      <td>25.060789</td>\n",
       "      <td>0.0</td>\n",
       "    </tr>\n",
       "    <tr>\n",
       "      <th>1</th>\n",
       "      <td>2020-05-15 00:00:00</td>\n",
       "      <td>4136001</td>\n",
       "      <td>81aHJ1q11NBPMrL</td>\n",
       "      <td>0.0</td>\n",
       "      <td>0.0</td>\n",
       "      <td>0.000000</td>\n",
       "      <td>1.215279e+09</td>\n",
       "      <td>iq8k7ZNt4Mwm3w0</td>\n",
       "      <td>27.004764</td>\n",
       "      <td>25.060789</td>\n",
       "      <td>0.0</td>\n",
       "    </tr>\n",
       "    <tr>\n",
       "      <th>2</th>\n",
       "      <td>2020-05-15 00:00:00</td>\n",
       "      <td>4136001</td>\n",
       "      <td>9kRcWv60rDACzjR</td>\n",
       "      <td>0.0</td>\n",
       "      <td>0.0</td>\n",
       "      <td>3075.333333</td>\n",
       "      <td>2.247720e+09</td>\n",
       "      <td>iq8k7ZNt4Mwm3w0</td>\n",
       "      <td>27.004764</td>\n",
       "      <td>25.060789</td>\n",
       "      <td>0.0</td>\n",
       "    </tr>\n",
       "    <tr>\n",
       "      <th>3</th>\n",
       "      <td>2020-05-15 00:00:00</td>\n",
       "      <td>4136001</td>\n",
       "      <td>Et9kgGMDl729KT4</td>\n",
       "      <td>0.0</td>\n",
       "      <td>0.0</td>\n",
       "      <td>269.933333</td>\n",
       "      <td>1.704250e+06</td>\n",
       "      <td>iq8k7ZNt4Mwm3w0</td>\n",
       "      <td>27.004764</td>\n",
       "      <td>25.060789</td>\n",
       "      <td>0.0</td>\n",
       "    </tr>\n",
       "    <tr>\n",
       "      <th>4</th>\n",
       "      <td>2020-05-15 00:00:00</td>\n",
       "      <td>4136001</td>\n",
       "      <td>IQ2d7wF4YD8zU1Q</td>\n",
       "      <td>0.0</td>\n",
       "      <td>0.0</td>\n",
       "      <td>3177.000000</td>\n",
       "      <td>1.994153e+07</td>\n",
       "      <td>iq8k7ZNt4Mwm3w0</td>\n",
       "      <td>27.004764</td>\n",
       "      <td>25.060789</td>\n",
       "      <td>0.0</td>\n",
       "    </tr>\n",
       "  </tbody>\n",
       "</table>\n",
       "</div>"
      ],
      "text/plain": [
       "             DATE_TIME  PLANT_ID     SOURCE_KEY_x  DC_POWER  AC_POWER  \\\n",
       "0  2020-05-15 00:00:00   4136001  4UPUqMRk7TRMgml       0.0       0.0   \n",
       "1  2020-05-15 00:00:00   4136001  81aHJ1q11NBPMrL       0.0       0.0   \n",
       "2  2020-05-15 00:00:00   4136001  9kRcWv60rDACzjR       0.0       0.0   \n",
       "3  2020-05-15 00:00:00   4136001  Et9kgGMDl729KT4       0.0       0.0   \n",
       "4  2020-05-15 00:00:00   4136001  IQ2d7wF4YD8zU1Q       0.0       0.0   \n",
       "\n",
       "   DAILY_YIELD   TOTAL_YIELD     SOURCE_KEY_y  AMBIENT_TEMPERATURE  \\\n",
       "0  9425.000000  2.429011e+06  iq8k7ZNt4Mwm3w0            27.004764   \n",
       "1     0.000000  1.215279e+09  iq8k7ZNt4Mwm3w0            27.004764   \n",
       "2  3075.333333  2.247720e+09  iq8k7ZNt4Mwm3w0            27.004764   \n",
       "3   269.933333  1.704250e+06  iq8k7ZNt4Mwm3w0            27.004764   \n",
       "4  3177.000000  1.994153e+07  iq8k7ZNt4Mwm3w0            27.004764   \n",
       "\n",
       "   MODULE_TEMPERATURE  IRRADIATION  \n",
       "0           25.060789          0.0  \n",
       "1           25.060789          0.0  \n",
       "2           25.060789          0.0  \n",
       "3           25.060789          0.0  \n",
       "4           25.060789          0.0  "
      ]
     },
     "execution_count": 10,
     "metadata": {},
     "output_type": "execute_result"
    }
   ],
   "source": [
    "merged_df.head()"
   ]
  },
  {
   "cell_type": "code",
   "execution_count": 11,
   "id": "f36a100c",
   "metadata": {},
   "outputs": [
    {
     "data": {
      "text/plain": [
       "(67698, 11)"
      ]
     },
     "execution_count": 11,
     "metadata": {},
     "output_type": "execute_result"
    }
   ],
   "source": [
    "merged_df.shape"
   ]
  },
  {
   "cell_type": "code",
   "execution_count": 12,
   "id": "d31315d9",
   "metadata": {},
   "outputs": [],
   "source": [
    "columns_to_drop = [\"DATE_TIME\", \"SOURCE_KEY_x\",\"SOURCE_KEY_y\"]\n",
    "merged_df = merged_df.drop(columns_to_drop, axis=1)"
   ]
  },
  {
   "cell_type": "code",
   "execution_count": 13,
   "id": "43140cdc",
   "metadata": {},
   "outputs": [
    {
     "data": {
      "text/plain": [
       "(67698, 8)"
      ]
     },
     "execution_count": 13,
     "metadata": {},
     "output_type": "execute_result"
    }
   ],
   "source": [
    "merged_df.shape"
   ]
  },
  {
   "cell_type": "code",
   "execution_count": 14,
   "id": "0bc99513",
   "metadata": {},
   "outputs": [
    {
     "data": {
      "text/html": [
       "<div>\n",
       "<style scoped>\n",
       "    .dataframe tbody tr th:only-of-type {\n",
       "        vertical-align: middle;\n",
       "    }\n",
       "\n",
       "    .dataframe tbody tr th {\n",
       "        vertical-align: top;\n",
       "    }\n",
       "\n",
       "    .dataframe thead th {\n",
       "        text-align: right;\n",
       "    }\n",
       "</style>\n",
       "<table border=\"1\" class=\"dataframe\">\n",
       "  <thead>\n",
       "    <tr style=\"text-align: right;\">\n",
       "      <th></th>\n",
       "      <th>PLANT_ID</th>\n",
       "      <th>DC_POWER</th>\n",
       "      <th>AC_POWER</th>\n",
       "      <th>DAILY_YIELD</th>\n",
       "      <th>TOTAL_YIELD</th>\n",
       "      <th>AMBIENT_TEMPERATURE</th>\n",
       "      <th>MODULE_TEMPERATURE</th>\n",
       "      <th>IRRADIATION</th>\n",
       "    </tr>\n",
       "  </thead>\n",
       "  <tbody>\n",
       "    <tr>\n",
       "      <th>0</th>\n",
       "      <td>4136001</td>\n",
       "      <td>0.0</td>\n",
       "      <td>0.0</td>\n",
       "      <td>9425.000000</td>\n",
       "      <td>2.429011e+06</td>\n",
       "      <td>27.004764</td>\n",
       "      <td>25.060789</td>\n",
       "      <td>0.0</td>\n",
       "    </tr>\n",
       "    <tr>\n",
       "      <th>1</th>\n",
       "      <td>4136001</td>\n",
       "      <td>0.0</td>\n",
       "      <td>0.0</td>\n",
       "      <td>0.000000</td>\n",
       "      <td>1.215279e+09</td>\n",
       "      <td>27.004764</td>\n",
       "      <td>25.060789</td>\n",
       "      <td>0.0</td>\n",
       "    </tr>\n",
       "    <tr>\n",
       "      <th>2</th>\n",
       "      <td>4136001</td>\n",
       "      <td>0.0</td>\n",
       "      <td>0.0</td>\n",
       "      <td>3075.333333</td>\n",
       "      <td>2.247720e+09</td>\n",
       "      <td>27.004764</td>\n",
       "      <td>25.060789</td>\n",
       "      <td>0.0</td>\n",
       "    </tr>\n",
       "    <tr>\n",
       "      <th>3</th>\n",
       "      <td>4136001</td>\n",
       "      <td>0.0</td>\n",
       "      <td>0.0</td>\n",
       "      <td>269.933333</td>\n",
       "      <td>1.704250e+06</td>\n",
       "      <td>27.004764</td>\n",
       "      <td>25.060789</td>\n",
       "      <td>0.0</td>\n",
       "    </tr>\n",
       "    <tr>\n",
       "      <th>4</th>\n",
       "      <td>4136001</td>\n",
       "      <td>0.0</td>\n",
       "      <td>0.0</td>\n",
       "      <td>3177.000000</td>\n",
       "      <td>1.994153e+07</td>\n",
       "      <td>27.004764</td>\n",
       "      <td>25.060789</td>\n",
       "      <td>0.0</td>\n",
       "    </tr>\n",
       "  </tbody>\n",
       "</table>\n",
       "</div>"
      ],
      "text/plain": [
       "   PLANT_ID  DC_POWER  AC_POWER  DAILY_YIELD   TOTAL_YIELD  \\\n",
       "0   4136001       0.0       0.0  9425.000000  2.429011e+06   \n",
       "1   4136001       0.0       0.0     0.000000  1.215279e+09   \n",
       "2   4136001       0.0       0.0  3075.333333  2.247720e+09   \n",
       "3   4136001       0.0       0.0   269.933333  1.704250e+06   \n",
       "4   4136001       0.0       0.0  3177.000000  1.994153e+07   \n",
       "\n",
       "   AMBIENT_TEMPERATURE  MODULE_TEMPERATURE  IRRADIATION  \n",
       "0            27.004764           25.060789          0.0  \n",
       "1            27.004764           25.060789          0.0  \n",
       "2            27.004764           25.060789          0.0  \n",
       "3            27.004764           25.060789          0.0  \n",
       "4            27.004764           25.060789          0.0  "
      ]
     },
     "execution_count": 14,
     "metadata": {},
     "output_type": "execute_result"
    }
   ],
   "source": [
    "merged_df.head()"
   ]
  },
  {
   "cell_type": "code",
   "execution_count": 15,
   "id": "86cabd1c",
   "metadata": {},
   "outputs": [
    {
     "data": {
      "text/plain": [
       "PLANT_ID               0\n",
       "DC_POWER               0\n",
       "AC_POWER               0\n",
       "DAILY_YIELD            0\n",
       "TOTAL_YIELD            0\n",
       "AMBIENT_TEMPERATURE    0\n",
       "MODULE_TEMPERATURE     0\n",
       "IRRADIATION            0\n",
       "dtype: int64"
      ]
     },
     "execution_count": 15,
     "metadata": {},
     "output_type": "execute_result"
    }
   ],
   "source": [
    "merged_df.isna().sum()"
   ]
  },
  {
   "cell_type": "code",
   "execution_count": 30,
   "id": "4cb55f9b",
   "metadata": {},
   "outputs": [
    {
     "name": "stdout",
     "output_type": "stream",
     "text": [
      "<class 'pandas.core.frame.DataFrame'>\n",
      "RangeIndex: 67698 entries, 0 to 67697\n",
      "Data columns (total 8 columns):\n",
      " #   Column               Non-Null Count  Dtype  \n",
      "---  ------               --------------  -----  \n",
      " 0   PLANT_ID             67698 non-null  int64  \n",
      " 1   DC_POWER             67698 non-null  float64\n",
      " 2   AC_POWER             67698 non-null  float64\n",
      " 3   DAILY_YIELD          67698 non-null  float64\n",
      " 4   TOTAL_YIELD          67698 non-null  float64\n",
      " 5   AMBIENT_TEMPERATURE  67698 non-null  float64\n",
      " 6   MODULE_TEMPERATURE   67698 non-null  float64\n",
      " 7   IRRADIATION          67698 non-null  float64\n",
      "dtypes: float64(7), int64(1)\n",
      "memory usage: 4.1 MB\n"
     ]
    }
   ],
   "source": [
    "merged_df.info()"
   ]
  },
  {
   "cell_type": "code",
   "execution_count": 32,
   "id": "306bb2f9",
   "metadata": {},
   "outputs": [
    {
     "data": {
      "text/html": [
       "<div>\n",
       "<style scoped>\n",
       "    .dataframe tbody tr th:only-of-type {\n",
       "        vertical-align: middle;\n",
       "    }\n",
       "\n",
       "    .dataframe tbody tr th {\n",
       "        vertical-align: top;\n",
       "    }\n",
       "\n",
       "    .dataframe thead th {\n",
       "        text-align: right;\n",
       "    }\n",
       "</style>\n",
       "<table border=\"1\" class=\"dataframe\">\n",
       "  <thead>\n",
       "    <tr style=\"text-align: right;\">\n",
       "      <th></th>\n",
       "      <th>PLANT_ID</th>\n",
       "      <th>DC_POWER</th>\n",
       "      <th>AC_POWER</th>\n",
       "      <th>DAILY_YIELD</th>\n",
       "      <th>TOTAL_YIELD</th>\n",
       "      <th>AMBIENT_TEMPERATURE</th>\n",
       "      <th>MODULE_TEMPERATURE</th>\n",
       "      <th>IRRADIATION</th>\n",
       "    </tr>\n",
       "  </thead>\n",
       "  <tbody>\n",
       "    <tr>\n",
       "      <th>count</th>\n",
       "      <td>67698.0</td>\n",
       "      <td>67698.000000</td>\n",
       "      <td>67698.000000</td>\n",
       "      <td>67698.000000</td>\n",
       "      <td>6.769800e+04</td>\n",
       "      <td>67698.000000</td>\n",
       "      <td>67698.000000</td>\n",
       "      <td>67698.000000</td>\n",
       "    </tr>\n",
       "    <tr>\n",
       "      <th>mean</th>\n",
       "      <td>4136001.0</td>\n",
       "      <td>246.701961</td>\n",
       "      <td>241.277825</td>\n",
       "      <td>3294.890295</td>\n",
       "      <td>6.589448e+08</td>\n",
       "      <td>27.986756</td>\n",
       "      <td>32.607233</td>\n",
       "      <td>0.229204</td>\n",
       "    </tr>\n",
       "    <tr>\n",
       "      <th>std</th>\n",
       "      <td>0.0</td>\n",
       "      <td>370.569597</td>\n",
       "      <td>362.112118</td>\n",
       "      <td>2919.448386</td>\n",
       "      <td>7.296678e+08</td>\n",
       "      <td>4.021294</td>\n",
       "      <td>11.226446</td>\n",
       "      <td>0.309365</td>\n",
       "    </tr>\n",
       "    <tr>\n",
       "      <th>min</th>\n",
       "      <td>4136001.0</td>\n",
       "      <td>0.000000</td>\n",
       "      <td>0.000000</td>\n",
       "      <td>0.000000</td>\n",
       "      <td>0.000000e+00</td>\n",
       "      <td>20.942385</td>\n",
       "      <td>20.265123</td>\n",
       "      <td>0.000000</td>\n",
       "    </tr>\n",
       "    <tr>\n",
       "      <th>25%</th>\n",
       "      <td>4136001.0</td>\n",
       "      <td>0.000000</td>\n",
       "      <td>0.000000</td>\n",
       "      <td>272.750000</td>\n",
       "      <td>1.996494e+07</td>\n",
       "      <td>24.570349</td>\n",
       "      <td>23.685627</td>\n",
       "      <td>0.000000</td>\n",
       "    </tr>\n",
       "    <tr>\n",
       "      <th>50%</th>\n",
       "      <td>4136001.0</td>\n",
       "      <td>0.000000</td>\n",
       "      <td>0.000000</td>\n",
       "      <td>2911.000000</td>\n",
       "      <td>2.826276e+08</td>\n",
       "      <td>26.910352</td>\n",
       "      <td>27.433723</td>\n",
       "      <td>0.018554</td>\n",
       "    </tr>\n",
       "    <tr>\n",
       "      <th>75%</th>\n",
       "      <td>4136001.0</td>\n",
       "      <td>446.591667</td>\n",
       "      <td>438.215000</td>\n",
       "      <td>5534.000000</td>\n",
       "      <td>1.348495e+09</td>\n",
       "      <td>30.912601</td>\n",
       "      <td>40.019036</td>\n",
       "      <td>0.431027</td>\n",
       "    </tr>\n",
       "    <tr>\n",
       "      <th>max</th>\n",
       "      <td>4136001.0</td>\n",
       "      <td>1420.933333</td>\n",
       "      <td>1385.420000</td>\n",
       "      <td>9873.000000</td>\n",
       "      <td>2.247916e+09</td>\n",
       "      <td>39.181638</td>\n",
       "      <td>66.635953</td>\n",
       "      <td>1.098766</td>\n",
       "    </tr>\n",
       "  </tbody>\n",
       "</table>\n",
       "</div>"
      ],
      "text/plain": [
       "        PLANT_ID      DC_POWER      AC_POWER   DAILY_YIELD   TOTAL_YIELD  \\\n",
       "count    67698.0  67698.000000  67698.000000  67698.000000  6.769800e+04   \n",
       "mean   4136001.0    246.701961    241.277825   3294.890295  6.589448e+08   \n",
       "std          0.0    370.569597    362.112118   2919.448386  7.296678e+08   \n",
       "min    4136001.0      0.000000      0.000000      0.000000  0.000000e+00   \n",
       "25%    4136001.0      0.000000      0.000000    272.750000  1.996494e+07   \n",
       "50%    4136001.0      0.000000      0.000000   2911.000000  2.826276e+08   \n",
       "75%    4136001.0    446.591667    438.215000   5534.000000  1.348495e+09   \n",
       "max    4136001.0   1420.933333   1385.420000   9873.000000  2.247916e+09   \n",
       "\n",
       "       AMBIENT_TEMPERATURE  MODULE_TEMPERATURE   IRRADIATION  \n",
       "count         67698.000000        67698.000000  67698.000000  \n",
       "mean             27.986756           32.607233      0.229204  \n",
       "std               4.021294           11.226446      0.309365  \n",
       "min              20.942385           20.265123      0.000000  \n",
       "25%              24.570349           23.685627      0.000000  \n",
       "50%              26.910352           27.433723      0.018554  \n",
       "75%              30.912601           40.019036      0.431027  \n",
       "max              39.181638           66.635953      1.098766  "
      ]
     },
     "execution_count": 32,
     "metadata": {},
     "output_type": "execute_result"
    }
   ],
   "source": [
    "merged_df.describe()"
   ]
  },
  {
   "cell_type": "code",
   "execution_count": 33,
   "id": "242e3816",
   "metadata": {},
   "outputs": [
    {
     "data": {
      "text/plain": [
       "PLANT_ID               0\n",
       "DC_POWER               0\n",
       "AC_POWER               0\n",
       "DAILY_YIELD            0\n",
       "TOTAL_YIELD            0\n",
       "AMBIENT_TEMPERATURE    0\n",
       "MODULE_TEMPERATURE     0\n",
       "IRRADIATION            0\n",
       "dtype: int64"
      ]
     },
     "execution_count": 33,
     "metadata": {},
     "output_type": "execute_result"
    }
   ],
   "source": [
    "merged_df.isnull().sum()"
   ]
  },
  {
   "cell_type": "code",
   "execution_count": 40,
   "id": "d3c91bb0",
   "metadata": {},
   "outputs": [
    {
     "data": {
      "text/plain": [
       "(67698, 8)"
      ]
     },
     "execution_count": 40,
     "metadata": {},
     "output_type": "execute_result"
    }
   ],
   "source": [
    "merged_df.shape"
   ]
  },
  {
   "cell_type": "code",
   "execution_count": 39,
   "id": "5362915e",
   "metadata": {},
   "outputs": [
    {
     "data": {
      "text/plain": [
       "(67497, 8)"
      ]
     },
     "execution_count": 39,
     "metadata": {},
     "output_type": "execute_result"
    }
   ],
   "source": [
    "df_unique = merged_df.drop_duplicates()\n",
    "df_unique.shape"
   ]
  },
  {
   "cell_type": "code",
   "execution_count": 42,
   "id": "40d392f1",
   "metadata": {},
   "outputs": [
    {
     "data": {
      "text/plain": [
       "PLANT_ID               0\n",
       "DC_POWER               0\n",
       "AC_POWER               0\n",
       "DAILY_YIELD            0\n",
       "TOTAL_YIELD            0\n",
       "AMBIENT_TEMPERATURE    0\n",
       "MODULE_TEMPERATURE     0\n",
       "IRRADIATION            0\n",
       "dtype: int64"
      ]
     },
     "execution_count": 42,
     "metadata": {},
     "output_type": "execute_result"
    }
   ],
   "source": [
    "df_unique.isna().sum()"
   ]
  },
  {
   "cell_type": "code",
   "execution_count": null,
   "id": "c5fa1a60",
   "metadata": {},
   "outputs": [],
   "source": []
  }
 ],
 "metadata": {
  "kernelspec": {
   "display_name": "Python 3 (ipykernel)",
   "language": "python",
   "name": "python3"
  },
  "language_info": {
   "codemirror_mode": {
    "name": "ipython",
    "version": 3
   },
   "file_extension": ".py",
   "mimetype": "text/x-python",
   "name": "python",
   "nbconvert_exporter": "python",
   "pygments_lexer": "ipython3",
   "version": "3.9.12"
  }
 },
 "nbformat": 4,
 "nbformat_minor": 5
}
