{
 "cells": [
  {
   "cell_type": "markdown",
   "id": "0509dd46-01ff-415a-9ffa-f4a68d556f60",
   "metadata": {},
   "source": [
    "# PYTHON "
   ]
  },
  {
   "cell_type": "code",
   "execution_count": 1,
   "id": "e97f5334-4192-4fac-a207-9c930f30e83d",
   "metadata": {},
   "outputs": [],
   "source": [
    "x=5"
   ]
  },
  {
   "cell_type": "code",
   "execution_count": 2,
   "id": "0e39363f-087b-4207-a7b6-bb8524e78695",
   "metadata": {},
   "outputs": [
    {
     "data": {
      "text/plain": [
       "5"
      ]
     },
     "execution_count": 2,
     "metadata": {},
     "output_type": "execute_result"
    }
   ],
   "source": [
    "x"
   ]
  },
  {
   "cell_type": "code",
   "execution_count": 3,
   "id": "921ddde4-3ccd-4d2e-a9c9-dcae3aad4741",
   "metadata": {},
   "outputs": [],
   "source": [
    "y = 8"
   ]
  },
  {
   "cell_type": "code",
   "execution_count": 4,
   "id": "3bbda3f0-28b9-4451-a09e-ce6373e13a52",
   "metadata": {},
   "outputs": [
    {
     "data": {
      "text/plain": [
       "8"
      ]
     },
     "execution_count": 4,
     "metadata": {},
     "output_type": "execute_result"
    }
   ],
   "source": [
    "y"
   ]
  },
  {
   "cell_type": "code",
   "execution_count": 5,
   "id": "73c49092-55be-4fd8-930a-6f01561a2ed7",
   "metadata": {},
   "outputs": [
    {
     "data": {
      "text/plain": [
       "(1, 2)"
      ]
     },
     "execution_count": 5,
     "metadata": {},
     "output_type": "execute_result"
    }
   ],
   "source": [
    "x,y = 1,2\n",
    "x,y"
   ]
  },
  {
   "cell_type": "code",
   "execution_count": 6,
   "id": "48c61364-2ec8-4724-b267-1641cd16a2b3",
   "metadata": {},
   "outputs": [],
   "source": [
    "# create a var with a,b,c,d and give values\n",
    "a,b,c,d = (10,20,30,40)\n"
   ]
  },
  {
   "cell_type": "code",
   "execution_count": null,
   "id": "8203a541-9fa6-40e4-88a1-5c50e91131bd",
   "metadata": {},
   "outputs": [],
   "source": []
  },
  {
   "cell_type": "code",
   "execution_count": 7,
   "id": "cdd07e5e-cfd7-4365-9549-d7dde090542f",
   "metadata": {},
   "outputs": [
    {
     "name": "stdout",
     "output_type": "stream",
     "text": [
      "20\n",
      "40\n"
     ]
    }
   ],
   "source": [
    "# create a var with a,b,c,d and give values and show the values of only any two variables seperate\n",
    "print(b)\n",
    "print(d)"
   ]
  },
  {
   "cell_type": "markdown",
   "id": "0f3ebbd6-28e2-450b-926b-82048dccc4bc",
   "metadata": {},
   "source": [
    "# Types Of Data: Numbers and Boolean"
   ]
  },
  {
   "cell_type": "code",
   "execution_count": 8,
   "id": "193eaf76-4839-4d36-99eb-56026b7c201e",
   "metadata": {},
   "outputs": [
    {
     "data": {
      "text/plain": [
       "int"
      ]
     },
     "execution_count": 8,
     "metadata": {},
     "output_type": "execute_result"
    }
   ],
   "source": [
    "x = 3\n",
    "type(x)"
   ]
  },
  {
   "cell_type": "code",
   "execution_count": 9,
   "id": "ff709ce8-0369-48ef-bdeb-73fad8e29ed5",
   "metadata": {},
   "outputs": [
    {
     "data": {
      "text/plain": [
       "float"
      ]
     },
     "execution_count": 9,
     "metadata": {},
     "output_type": "execute_result"
    }
   ],
   "source": [
    "y = 4.32\n",
    "type(y)"
   ]
  },
  {
   "cell_type": "code",
   "execution_count": 10,
   "id": "831ca514-5a45-43cc-89eb-7d297a99f5ca",
   "metadata": {},
   "outputs": [],
   "source": [
    "x2 = True"
   ]
  },
  {
   "cell_type": "markdown",
   "id": "4c500985-0b1f-490e-8df9-98deeea774c9",
   "metadata": {
    "scrolled": true
   },
   "source": [
    "type(x2)"
   ]
  },
  {
   "cell_type": "code",
   "execution_count": 11,
   "id": "417c9fef-7548-4f4d-800e-2821faca23bb",
   "metadata": {},
   "outputs": [
    {
     "data": {
      "text/plain": [
       "bool"
      ]
     },
     "execution_count": 11,
     "metadata": {},
     "output_type": "execute_result"
    }
   ],
   "source": [
    "# Create a variable a equal to \"True\"Check its type.\n",
    "\n",
    "a = True\n",
    "type(a)"
   ]
  },
  {
   "cell_type": "code",
   "execution_count": 12,
   "id": "51cf4dd7-f589-4767-9cfa-0bd17b8d5202",
   "metadata": {},
   "outputs": [
    {
     "data": {
      "text/plain": [
       "int"
      ]
     },
     "execution_count": 12,
     "metadata": {},
     "output_type": "execute_result"
    }
   ],
   "source": [
    "# Create a variable b equal to 99 Check its type.\n",
    "b = 99\n",
    "type(b)"
   ]
  },
  {
   "cell_type": "code",
   "execution_count": 13,
   "id": "4ebf5d95-44e2-4cfe-87ee-0a13ebccbeb5",
   "metadata": {},
   "outputs": [
    {
     "data": {
      "text/plain": [
       "float"
      ]
     },
     "execution_count": 13,
     "metadata": {},
     "output_type": "execute_result"
    }
   ],
   "source": [
    "# Check the type of the value 0.99.\n",
    "type(0.99)"
   ]
  },
  {
   "cell_type": "code",
   "execution_count": 14,
   "id": "2f927295-f836-477d-9378-a1708649b3e3",
   "metadata": {},
   "outputs": [
    {
     "name": "stdout",
     "output_type": "stream",
     "text": [
      "<class 'int'>\n"
     ]
    }
   ],
   "source": [
    "# Create a variable b equal to 99 Turn b into a float.Consider using the print() function as a tool to help you solve this exercise.\n",
    "\n",
    "b = 99\n",
    "float(b)\n",
    "print(type(b))"
   ]
  },
  {
   "cell_type": "markdown",
   "id": "73672797-efd3-4e2c-ac16-9e995f774c95",
   "metadata": {},
   "source": [
    "# STRINGS"
   ]
  },
  {
   "cell_type": "code",
   "execution_count": 15,
   "id": "c844aafc-0666-4927-b803-3238e4736835",
   "metadata": {},
   "outputs": [
    {
     "data": {
      "text/plain": [
       "'george'"
      ]
     },
     "execution_count": 15,
     "metadata": {},
     "output_type": "execute_result"
    }
   ],
   "source": [
    "\"george\"\n"
   ]
  },
  {
   "cell_type": "code",
   "execution_count": 16,
   "id": "4987b6a7-beff-4165-8039-e9a709a1ea0e",
   "metadata": {},
   "outputs": [
    {
     "data": {
      "text/plain": [
       "' Bruce'"
      ]
     },
     "execution_count": 16,
     "metadata": {},
     "output_type": "execute_result"
    }
   ],
   "source": [
    "name = \" Bruce\"\n",
    "name"
   ]
  },
  {
   "cell_type": "code",
   "execution_count": 17,
   "id": "1b79a443-391b-43e7-babd-d15d22236ed7",
   "metadata": {},
   "outputs": [
    {
     "name": "stdout",
     "output_type": "stream",
     "text": [
      "10 Bruce\n"
     ]
    }
   ],
   "source": [
    "y=10\n",
    "y = str(y)\n",
    "print(y+name)"
   ]
  },
  {
   "cell_type": "code",
   "execution_count": 18,
   "id": "7e707291-e0cc-49c5-b001-e570028835e0",
   "metadata": {},
   "outputs": [
    {
     "data": {
      "text/plain": [
       "'red car'"
      ]
     },
     "execution_count": 18,
     "metadata": {},
     "output_type": "execute_result"
    }
   ],
   "source": [
    "'red ' 'car'"
   ]
  },
  {
   "cell_type": "code",
   "execution_count": 19,
   "id": "540e0eba-5e54-4230-9af2-86bf207d7177",
   "metadata": {},
   "outputs": [
    {
     "data": {
      "text/plain": [
       "'Red Car'"
      ]
     },
     "execution_count": 19,
     "metadata": {},
     "output_type": "execute_result"
    }
   ],
   "source": [
    "'Red' + ' Car'"
   ]
  },
  {
   "cell_type": "code",
   "execution_count": 20,
   "id": "942c4463-8435-4f67-9ec4-6dd205005666",
   "metadata": {},
   "outputs": [
    {
     "name": "stdout",
     "output_type": "stream",
     "text": [
      "100 days\n"
     ]
    }
   ],
   "source": [
    "# Assign the value of 100 to the variable m.With the help of the variable m, write one line of code where the output after execution would be 100 days.\n",
    "\n",
    "m = 100\n",
    "print(str(m) + ' days')"
   ]
  },
  {
   "cell_type": "code",
   "execution_count": 21,
   "id": "62e642a0-4375-44ca-b556-6a4428afb7a9",
   "metadata": {},
   "outputs": [
    {
     "data": {
      "text/plain": [
       "\"It's cool, isn't it?\""
      ]
     },
     "execution_count": 21,
     "metadata": {},
     "output_type": "execute_result"
    }
   ],
   "source": [
    "# Produce an output equal to It's cool, isn't it? .\n",
    "x = \"It's cool, isn't it?\"\n",
    "x"
   ]
  },
  {
   "cell_type": "code",
   "execution_count": 22,
   "id": "91473b56-92a8-44c7-b91e-d17f8bee6cbb",
   "metadata": {},
   "outputs": [
    {
     "name": "stdout",
     "output_type": "stream",
     "text": [
      "Click \"OK\"\n"
     ]
    }
   ],
   "source": [
    "# Produce an output equal to Click \"OK\".\n",
    "print('Click \"OK\"')"
   ]
  },
  {
   "cell_type": "code",
   "execution_count": 23,
   "id": "4fa5d949-0514-441b-bfa8-2e3fa4fee923",
   "metadata": {},
   "outputs": [
    {
     "name": "stdout",
     "output_type": "stream",
     "text": [
      "Big Houses\n"
     ]
    }
   ],
   "source": [
    "# Include a plus sign in your line of code to produce 'Big Houses'.Include a trailing comma in your line of code to produce Big Houses.\n",
    "answer = \"Big\" + \" Houses\"\n",
    "print(answer)"
   ]
  },
  {
   "cell_type": "markdown",
   "id": "f8869737-f62e-41ac-b72b-9955f01f5a6e",
   "metadata": {},
   "source": [
    "# Arithmetic Operations In Python\n"
   ]
  },
  {
   "cell_type": "code",
   "execution_count": 24,
   "id": "7213dfea-cdf8-4ed0-a36c-e296a253dc8e",
   "metadata": {},
   "outputs": [
    {
     "data": {
      "text/plain": [
       "10"
      ]
     },
     "execution_count": 24,
     "metadata": {},
     "output_type": "execute_result"
    }
   ],
   "source": [
    "4 + 6"
   ]
  },
  {
   "cell_type": "code",
   "execution_count": 25,
   "id": "dd23a104-c0b2-4564-81be-07ff1293a2c3",
   "metadata": {},
   "outputs": [
    {
     "data": {
      "text/plain": [
       "6"
      ]
     },
     "execution_count": 25,
     "metadata": {},
     "output_type": "execute_result"
    }
   ],
   "source": [
    "10 - 4"
   ]
  },
  {
   "cell_type": "code",
   "execution_count": 26,
   "id": "fad3851a-022e-4b50-b256-81b2791d46c0",
   "metadata": {},
   "outputs": [
    {
     "data": {
      "text/plain": [
       "12"
      ]
     },
     "execution_count": 26,
     "metadata": {},
     "output_type": "execute_result"
    }
   ],
   "source": [
    "3 * 4"
   ]
  },
  {
   "cell_type": "code",
   "execution_count": 27,
   "id": "d5dcc400-1bb0-46ea-8169-385e926682e7",
   "metadata": {},
   "outputs": [
    {
     "data": {
      "text/plain": [
       "4.0"
      ]
     },
     "execution_count": 27,
     "metadata": {},
     "output_type": "execute_result"
    }
   ],
   "source": [
    "12/3"
   ]
  },
  {
   "cell_type": "code",
   "execution_count": 28,
   "id": "3cacc0f2-ce74-40a3-a803-9eeafe1e11d4",
   "metadata": {},
   "outputs": [
    {
     "data": {
      "text/plain": [
       "1"
      ]
     },
     "execution_count": 28,
     "metadata": {},
     "output_type": "execute_result"
    }
   ],
   "source": [
    "13%3"
   ]
  },
  {
   "cell_type": "code",
   "execution_count": 29,
   "id": "6f03c641-7936-458e-81bc-22b2bb417d9d",
   "metadata": {},
   "outputs": [
    {
     "data": {
      "text/plain": [
       "24"
      ]
     },
     "execution_count": 29,
     "metadata": {},
     "output_type": "execute_result"
    }
   ],
   "source": [
    "# Subtract 50 from 26.\n",
    "50 - 26"
   ]
  },
  {
   "cell_type": "code",
   "execution_count": 30,
   "id": "5c3e322d-a2ab-4cf5-ade9-7224c42801ba",
   "metadata": {},
   "outputs": [
    {
     "data": {
      "text/plain": [
       "5.5"
      ]
     },
     "execution_count": 30,
     "metadata": {},
     "output_type": "execute_result"
    }
   ],
   "source": [
    "# Divide 20 by 4.\n",
    "20/4\n",
    "# Divide 22 by 4.\n",
    "22/4"
   ]
  },
  {
   "cell_type": "code",
   "execution_count": 31,
   "id": "bb98a011-17ff-4d69-a79f-d3f4c5e3f59a",
   "metadata": {},
   "outputs": [
    {
     "data": {
      "text/plain": [
       "2"
      ]
     },
     "execution_count": 31,
     "metadata": {},
     "output_type": "execute_result"
    }
   ],
   "source": [
    "# Obtain the remainder of the division of 22 by 4.\n",
    "22%4"
   ]
  },
  {
   "cell_type": "code",
   "execution_count": 32,
   "id": "cbde8b24-a02e-4e14-81dc-5b8078e134ea",
   "metadata": {},
   "outputs": [
    {
     "data": {
      "text/plain": [
       "225"
      ]
     },
     "execution_count": 32,
     "metadata": {},
     "output_type": "execute_result"
    }
   ],
   "source": [
    "# Raise 15 to the power of 2.\n",
    "15**2"
   ]
  },
  {
   "cell_type": "markdown",
   "id": "9b3fe1bb-c34b-4ce2-b0e9-9ff04625017e",
   "metadata": {},
   "source": [
    "# DOUBLE EQUALITY SIGN\n"
   ]
  },
  {
   "cell_type": "code",
   "execution_count": 33,
   "id": "fc285547-f92b-49d2-8874-922f98d27db2",
   "metadata": {},
   "outputs": [
    {
     "data": {
      "text/plain": [
       "8"
      ]
     },
     "execution_count": 33,
     "metadata": {},
     "output_type": "execute_result"
    }
   ],
   "source": [
    "y = 2**3\n",
    "y"
   ]
  },
  {
   "cell_type": "code",
   "execution_count": 34,
   "id": "7377794f-fcbf-4f6c-bdb1-3fdd995d1fb7",
   "metadata": {},
   "outputs": [
    {
     "data": {
      "text/plain": [
       "False"
      ]
     },
     "execution_count": 34,
     "metadata": {},
     "output_type": "execute_result"
    }
   ],
   "source": [
    "y == 4"
   ]
  },
  {
   "cell_type": "code",
   "execution_count": 35,
   "id": "eff1eb26-b10d-4358-8fa2-0598322b63ba",
   "metadata": {},
   "outputs": [
    {
     "data": {
      "text/plain": [
       "True"
      ]
     },
     "execution_count": 35,
     "metadata": {},
     "output_type": "execute_result"
    }
   ],
   "source": [
    "y == 8"
   ]
  },
  {
   "cell_type": "code",
   "execution_count": 36,
   "id": "cf982c99-06bd-42ff-9bd4-9bc1fe3070ef",
   "metadata": {},
   "outputs": [
    {
     "data": {
      "text/plain": [
       "False"
      ]
     },
     "execution_count": 36,
     "metadata": {},
     "output_type": "execute_result"
    }
   ],
   "source": [
    "# Demonstrate that 100 is not equal to 98.\n",
    "100 == 98"
   ]
  },
  {
   "cell_type": "code",
   "execution_count": 37,
   "id": "7f974047-12e5-4884-97ed-f5caf0d0574f",
   "metadata": {},
   "outputs": [
    {
     "name": "stdout",
     "output_type": "stream",
     "text": [
      "24\n"
     ]
    }
   ],
   "source": [
    "# Assign the value of 14 to a variable p.Calculate p + 10.\n",
    "p = 14\n",
    "print(p+10)"
   ]
  },
  {
   "cell_type": "code",
   "execution_count": 38,
   "id": "333c6f3c-5f58-438e-ab6a-ca9ac4c1b72f",
   "metadata": {},
   "outputs": [
    {
     "data": {
      "text/plain": [
       "30"
      ]
     },
     "execution_count": 38,
     "metadata": {},
     "output_type": "execute_result"
    }
   ],
   "source": [
    "# Now, assign 30 to the variable p.\n",
    "p = 14\n",
    "p = 30\n",
    "p"
   ]
  },
  {
   "cell_type": "code",
   "execution_count": 39,
   "id": "9463b635-e522-4abc-a1a1-0a00557b4742",
   "metadata": {},
   "outputs": [
    {
     "data": {
      "text/plain": [
       "8.0"
      ]
     },
     "execution_count": 39,
     "metadata": {},
     "output_type": "execute_result"
    }
   ],
   "source": [
    "# line of continuation \"\\\" which will take new line code to the existing line of code\n",
    "\n",
    "2 * 1.5 + \\\n",
    "5"
   ]
  },
  {
   "cell_type": "code",
   "execution_count": 40,
   "id": "7f7959a8-9f26-401e-a374-93ece4d669a4",
   "metadata": {},
   "outputs": [],
   "source": [
    "# # without line of continuation below code will not work properly\n",
    "# 15 + 31 - \n",
    "# 26"
   ]
  },
  {
   "cell_type": "code",
   "execution_count": 41,
   "id": "dce20574-b232-402d-bd44-d65e51bddb7f",
   "metadata": {},
   "outputs": [
    {
     "data": {
      "text/plain": [
       "20"
      ]
     },
     "execution_count": 41,
     "metadata": {},
     "output_type": "execute_result"
    }
   ],
   "source": [
    "# with line of continuation below code will work \n",
    "15 + 31 - \\\n",
    "26"
   ]
  },
  {
   "cell_type": "markdown",
   "id": "b5e12fc7-04ac-498b-8589-3ce03964d2d8",
   "metadata": {},
   "source": [
    "# INDEXING "
   ]
  },
  {
   "cell_type": "code",
   "execution_count": 42,
   "id": "1d9d75dc-0958-4209-9ce7-d8ecd2f0e804",
   "metadata": {},
   "outputs": [
    {
     "data": {
      "text/plain": [
       "'e'"
      ]
     },
     "execution_count": 42,
     "metadata": {},
     "output_type": "execute_result"
    }
   ],
   "source": [
    "x = 'something'\n",
    "x[3]"
   ]
  },
  {
   "cell_type": "code",
   "execution_count": 43,
   "id": "cffa8f2c-15e4-415d-b340-072aa6744fb9",
   "metadata": {},
   "outputs": [
    {
     "data": {
      "text/plain": [
       "'B'"
      ]
     },
     "execution_count": 43,
     "metadata": {},
     "output_type": "execute_result"
    }
   ],
   "source": [
    "# Extract the letter 'B' from \"Bingo!\".\n",
    "x = \"Bingo!\"\n",
    "x[0]"
   ]
  },
  {
   "cell_type": "code",
   "execution_count": 44,
   "id": "b3707a43-2add-43e8-9fe6-cf1e3543feb9",
   "metadata": {},
   "outputs": [
    {
     "data": {
      "text/plain": [
       "'u'"
      ]
     },
     "execution_count": 44,
     "metadata": {},
     "output_type": "execute_result"
    }
   ],
   "source": [
    "# Extract the letter \"u\" from \"Constitution\".\n",
    "y = \"Constitution\"\n",
    "y[7]"
   ]
  },
  {
   "cell_type": "code",
   "execution_count": 45,
   "id": "424ee8bb-cb23-46cf-a9fd-b2b0eb410ba6",
   "metadata": {},
   "outputs": [
    {
     "name": "stdout",
     "output_type": "stream",
     "text": [
      "y\n"
     ]
    }
   ],
   "source": [
    "print('Holidays!'[6])"
   ]
  },
  {
   "cell_type": "markdown",
   "id": "3c2e09d3-7e0a-4d03-94b8-b8ddfbc5b884",
   "metadata": {},
   "source": [
    "# INDENTATION"
   ]
  },
  {
   "cell_type": "code",
   "execution_count": 46,
   "id": "71a6138b-94aa-4f87-b5cc-f87b375dfb51",
   "metadata": {},
   "outputs": [
    {
     "data": {
      "text/plain": [
       "'Hello Bruce'"
      ]
     },
     "execution_count": 46,
     "metadata": {},
     "output_type": "execute_result"
    }
   ],
   "source": [
    "def greet(x):\n",
    "    str(x)\n",
    "    return \"Hello \" + x\n",
    "\n",
    "\n",
    "greet(\"Bruce\")"
   ]
  },
  {
   "cell_type": "markdown",
   "id": "9cc67172-af2c-4b6d-b654-aad360af2efc",
   "metadata": {},
   "source": [
    "# COMPARISON OPERATORS "
   ]
  },
  {
   "cell_type": "code",
   "execution_count": 47,
   "id": "612eff7f-d2ee-4bb6-9a43-c065650dd2a5",
   "metadata": {},
   "outputs": [
    {
     "data": {
      "text/plain": [
       "True"
      ]
     },
     "execution_count": 47,
     "metadata": {},
     "output_type": "execute_result"
    }
   ],
   "source": [
    "10 == 20/2"
   ]
  },
  {
   "cell_type": "code",
   "execution_count": 48,
   "id": "868e08c3-c884-401b-b991-84d122de8dcd",
   "metadata": {},
   "outputs": [
    {
     "data": {
      "text/plain": [
       "False"
      ]
     },
     "execution_count": 48,
     "metadata": {},
     "output_type": "execute_result"
    }
   ],
   "source": [
    "\n",
    "10 != 10       "
   ]
  },
  {
   "cell_type": "code",
   "execution_count": 49,
   "id": "299853c6-39cf-49cc-89f3-6851ee99d689",
   "metadata": {},
   "outputs": [
    {
     "data": {
      "text/plain": [
       "True"
      ]
     },
     "execution_count": 49,
     "metadata": {},
     "output_type": "execute_result"
    }
   ],
   "source": [
    "100 > 98"
   ]
  },
  {
   "cell_type": "code",
   "execution_count": 50,
   "id": "af15cbdf-4a51-4373-8f40-64ec81da7437",
   "metadata": {},
   "outputs": [
    {
     "data": {
      "text/plain": [
       "False"
      ]
     },
     "execution_count": 50,
     "metadata": {},
     "output_type": "execute_result"
    }
   ],
   "source": [
    "4<3"
   ]
  },
  {
   "cell_type": "code",
   "execution_count": 51,
   "id": "e73daf7a-a4d0-4685-9bc9-9d35c0d91f12",
   "metadata": {},
   "outputs": [
    {
     "data": {
      "text/plain": [
       "False"
      ]
     },
     "execution_count": 51,
     "metadata": {},
     "output_type": "execute_result"
    }
   ],
   "source": [
    "20 >= 10+12"
   ]
  },
  {
   "cell_type": "code",
   "execution_count": 52,
   "id": "0f86f7ce-f10a-4674-a1fc-36d481a742d0",
   "metadata": {},
   "outputs": [
    {
     "data": {
      "text/plain": [
       "True"
      ]
     },
     "execution_count": 52,
     "metadata": {},
     "output_type": "execute_result"
    }
   ],
   "source": [
    "20<= 15+5"
   ]
  },
  {
   "cell_type": "code",
   "execution_count": 53,
   "id": "1057b227-9066-4426-9895-10d253c61c9f",
   "metadata": {},
   "outputs": [
    {
     "data": {
      "text/plain": [
       "True"
      ]
     },
     "execution_count": 53,
     "metadata": {},
     "output_type": "execute_result"
    }
   ],
   "source": [
    "# Verify that 25 is smaller than 30.\n",
    "25<30"
   ]
  },
  {
   "cell_type": "code",
   "execution_count": 54,
   "id": "da5e3eed-5c1d-4b0c-8a3d-4b3144fe7837",
   "metadata": {},
   "outputs": [
    {
     "data": {
      "text/plain": [
       "True"
      ]
     },
     "execution_count": 54,
     "metadata": {},
     "output_type": "execute_result"
    }
   ],
   "source": [
    "# Verify that 5 multiplied by 3 is less than or equal to 5 to the power of 3\n",
    "5*3 <= 5**3"
   ]
  },
  {
   "cell_type": "code",
   "execution_count": 55,
   "id": "40aee88f-0ece-42fd-9854-4e10e8fbbc9b",
   "metadata": {},
   "outputs": [
    {
     "data": {
      "text/plain": [
       "True"
      ]
     },
     "execution_count": 55,
     "metadata": {},
     "output_type": "execute_result"
    }
   ],
   "source": [
    "# Verify that 100 is equal to 10 square.\n",
    "100 == 10**2"
   ]
  },
  {
   "cell_type": "code",
   "execution_count": 56,
   "id": "822d8753-da33-408b-bac8-d943ffb57a63",
   "metadata": {},
   "outputs": [
    {
     "data": {
      "text/plain": [
       "True"
      ]
     },
     "execution_count": 56,
     "metadata": {},
     "output_type": "execute_result"
    }
   ],
   "source": [
    "# Verify that 53 is not equal to 46.\n",
    "53 != 46"
   ]
  },
  {
   "cell_type": "markdown",
   "id": "a54c05d5-9c04-4067-9451-16a0c9cf5f60",
   "metadata": {},
   "source": [
    "# LOGICAL AND IDENTITY OPERATORS "
   ]
  },
  {
   "cell_type": "code",
   "execution_count": 57,
   "id": "37e1da09-8e88-495f-8e2e-b5213caabfa5",
   "metadata": {},
   "outputs": [
    {
     "data": {
      "text/plain": [
       "True"
      ]
     },
     "execution_count": 57,
     "metadata": {},
     "output_type": "execute_result"
    }
   ],
   "source": [
    "True and True"
   ]
  },
  {
   "cell_type": "code",
   "execution_count": 58,
   "id": "9c771e69-50fa-402f-95e9-21c9969e56e4",
   "metadata": {},
   "outputs": [
    {
     "data": {
      "text/plain": [
       "False"
      ]
     },
     "execution_count": 58,
     "metadata": {},
     "output_type": "execute_result"
    }
   ],
   "source": [
    "True and False"
   ]
  },
  {
   "cell_type": "code",
   "execution_count": 59,
   "id": "1fecca70-674d-4b47-b0c2-d27b759503d2",
   "metadata": {},
   "outputs": [
    {
     "data": {
      "text/plain": [
       "False"
      ]
     },
     "execution_count": 59,
     "metadata": {},
     "output_type": "execute_result"
    }
   ],
   "source": [
    "False and False"
   ]
  },
  {
   "cell_type": "code",
   "execution_count": 60,
   "id": "d6f19442-5cb3-474f-8064-263a53c69580",
   "metadata": {},
   "outputs": [
    {
     "data": {
      "text/plain": [
       "False"
      ]
     },
     "execution_count": 60,
     "metadata": {},
     "output_type": "execute_result"
    }
   ],
   "source": [
    "False and True"
   ]
  },
  {
   "cell_type": "code",
   "execution_count": 61,
   "id": "f896c7fc-f626-43f5-ac57-52e03adc13d5",
   "metadata": {},
   "outputs": [
    {
     "data": {
      "text/plain": [
       "True"
      ]
     },
     "execution_count": 61,
     "metadata": {},
     "output_type": "execute_result"
    }
   ],
   "source": [
    "True or False"
   ]
  },
  {
   "cell_type": "code",
   "execution_count": 62,
   "id": "90e9b6d6-e792-4d6f-9c08-949d358d5d82",
   "metadata": {},
   "outputs": [
    {
     "data": {
      "text/plain": [
       "False"
      ]
     },
     "execution_count": 62,
     "metadata": {},
     "output_type": "execute_result"
    }
   ],
   "source": [
    "False or False"
   ]
  },
  {
   "cell_type": "code",
   "execution_count": 63,
   "id": "6721a4fc-f702-471a-8d9c-8005227dcb8a",
   "metadata": {},
   "outputs": [
    {
     "data": {
      "text/plain": [
       "True"
      ]
     },
     "execution_count": 63,
     "metadata": {},
     "output_type": "execute_result"
    }
   ],
   "source": [
    "True or True"
   ]
  },
  {
   "cell_type": "code",
   "execution_count": 64,
   "id": "b5f11974-fdfd-4a50-a81c-b0de3aa2d3bf",
   "metadata": {},
   "outputs": [
    {
     "data": {
      "text/plain": [
       "False"
      ]
     },
     "execution_count": 64,
     "metadata": {},
     "output_type": "execute_result"
    }
   ],
   "source": [
    "# not come 1st\n",
    "# and comes 2nd \n",
    "# or comes last\n",
    "\n",
    "True and not True and False"
   ]
  },
  {
   "cell_type": "code",
   "execution_count": 65,
   "id": "132924de-c022-46f0-9cc7-378cc86b15d7",
   "metadata": {},
   "outputs": [
    {
     "name": "stderr",
     "output_type": "stream",
     "text": [
      "<>:1: SyntaxWarning: \"is\" with a literal. Did you mean \"==\"?\n",
      "<>:1: SyntaxWarning: \"is\" with a literal. Did you mean \"==\"?\n",
      "C:\\Users\\pukamble\\AppData\\Local\\Temp\\ipykernel_19936\\171648558.py:1: SyntaxWarning: \"is\" with a literal. Did you mean \"==\"?\n",
      "  5 is 4\n"
     ]
    },
    {
     "data": {
      "text/plain": [
       "False"
      ]
     },
     "execution_count": 65,
     "metadata": {},
     "output_type": "execute_result"
    }
   ],
   "source": [
    "5 is 4"
   ]
  },
  {
   "cell_type": "code",
   "execution_count": 66,
   "id": "30aaf205-fbfc-4437-bccf-fe61c57d20c9",
   "metadata": {},
   "outputs": [
    {
     "name": "stderr",
     "output_type": "stream",
     "text": [
      "<>:1: SyntaxWarning: \"is not\" with a literal. Did you mean \"!=\"?\n",
      "<>:1: SyntaxWarning: \"is not\" with a literal. Did you mean \"!=\"?\n",
      "C:\\Users\\pukamble\\AppData\\Local\\Temp\\ipykernel_19936\\3794756844.py:1: SyntaxWarning: \"is not\" with a literal. Did you mean \"!=\"?\n",
      "  5 is not 2\n"
     ]
    },
    {
     "data": {
      "text/plain": [
       "True"
      ]
     },
     "execution_count": 66,
     "metadata": {},
     "output_type": "execute_result"
    }
   ],
   "source": [
    "5 is not 2"
   ]
  },
  {
   "cell_type": "code",
   "execution_count": 67,
   "id": "ae545780-7a8f-4ce2-93ba-770b5b1c81c2",
   "metadata": {},
   "outputs": [
    {
     "data": {
      "text/plain": [
       "False"
      ]
     },
     "execution_count": 67,
     "metadata": {},
     "output_type": "execute_result"
    }
   ],
   "source": [
    "# Check whether the following code is True or False. Answer is False\n",
    "False or not True and not False        "
   ]
  },
  {
   "cell_type": "code",
   "execution_count": 68,
   "id": "0003006e-7198-4b44-a77a-8526b20f5047",
   "metadata": {},
   "outputs": [
    {
     "data": {
      "text/plain": [
       "True"
      ]
     },
     "execution_count": 68,
     "metadata": {},
     "output_type": "execute_result"
    }
   ],
   "source": [
    "# Check whether the following code is True or False.  Answer is True\n",
    "\n",
    "True and not False and True or not False"
   ]
  },
  {
   "cell_type": "code",
   "execution_count": 69,
   "id": "5c21bf5e-2352-496e-b2ee-26ea0aca5d63",
   "metadata": {},
   "outputs": [
    {
     "data": {
      "text/plain": [
       "True"
      ]
     },
     "execution_count": 69,
     "metadata": {},
     "output_type": "execute_result"
    }
   ],
   "source": [
    "# Check whether the following code is True or False. answer is True\n",
    "True or False and False"
   ]
  },
  {
   "cell_type": "code",
   "execution_count": 70,
   "id": "ea47bb24-6659-41ae-8b2e-898adf520bfa",
   "metadata": {},
   "outputs": [
    {
     "data": {
      "text/plain": [
       "False"
      ]
     },
     "execution_count": 70,
     "metadata": {},
     "output_type": "execute_result"
    }
   ],
   "source": [
    "# Check whether the following code is True or False.Answer is False\n",
    "\n",
    "False and True or False"
   ]
  },
  {
   "cell_type": "code",
   "execution_count": 71,
   "id": "2b3308a5-fb4a-4b6f-b718-0c01eaa6344a",
   "metadata": {},
   "outputs": [
    {
     "name": "stderr",
     "output_type": "stream",
     "text": [
      "<>:3: SyntaxWarning: \"is not\" with a literal. Did you mean \"!=\"?\n",
      "<>:3: SyntaxWarning: \"is not\" with a literal. Did you mean \"!=\"?\n",
      "C:\\Users\\pukamble\\AppData\\Local\\Temp\\ipykernel_19936\\582606908.py:3: SyntaxWarning: \"is not\" with a literal. Did you mean \"!=\"?\n",
      "  10 is not 12\n"
     ]
    },
    {
     "data": {
      "text/plain": [
       "True"
      ]
     },
     "execution_count": 71,
     "metadata": {},
     "output_type": "execute_result"
    }
   ],
   "source": [
    "# Using an identity operator, verify that 10 is not the same as 12.\n",
    "\n",
    "10 is not 12"
   ]
  },
  {
   "cell_type": "code",
   "execution_count": 72,
   "id": "3fa10cdc-a4bf-44a0-9ba0-1f1828e41128",
   "metadata": {},
   "outputs": [
    {
     "name": "stderr",
     "output_type": "stream",
     "text": [
      "<>:2: SyntaxWarning: \"is\" with a literal. Did you mean \"==\"?\n",
      "<>:2: SyntaxWarning: \"is\" with a literal. Did you mean \"==\"?\n",
      "C:\\Users\\pukamble\\AppData\\Local\\Temp\\ipykernel_19936\\3489123720.py:2: SyntaxWarning: \"is\" with a literal. Did you mean \"==\"?\n",
      "  50 is 50\n"
     ]
    },
    {
     "data": {
      "text/plain": [
       "True"
      ]
     },
     "execution_count": 72,
     "metadata": {},
     "output_type": "execute_result"
    }
   ],
   "source": [
    "# Using an identity operator, verify that 50 is the same as 50.\n",
    "50 is 50"
   ]
  },
  {
   "cell_type": "markdown",
   "id": "90df490c-9a25-4a32-b01f-5e57621d3442",
   "metadata": {},
   "source": [
    "# IF STATEMENTS IN PYTHON"
   ]
  },
  {
   "cell_type": "code",
   "execution_count": 73,
   "id": "d9af4917-a7e4-432d-84a6-71284f63e76f",
   "metadata": {},
   "outputs": [
    {
     "name": "stdout",
     "output_type": "stream",
     "text": [
      "Eligible\n"
     ]
    }
   ],
   "source": [
    "age = 19\n",
    "if age>=18:\n",
    "    print(\"Eligible\")"
   ]
  },
  {
   "cell_type": "code",
   "execution_count": 74,
   "id": "e286768b-c2f5-4139-b126-18e983cd35c3",
   "metadata": {},
   "outputs": [
    {
     "name": "stdout",
     "output_type": "stream",
     "text": [
      "The condition has been satisfied\n"
     ]
    }
   ],
   "source": [
    "# Create a two-line code that prints \"The condition has been satisfied\" if 5 is greater than 2.\n",
    "if 5 > 2:\n",
    "    print(\"The condition has been satisfied\")"
   ]
  },
  {
   "cell_type": "code",
   "execution_count": 75,
   "id": "8ecc71c4-bf8a-44b1-b310-f04743cea96c",
   "metadata": {},
   "outputs": [
    {
     "name": "stdout",
     "output_type": "stream",
     "text": [
      "Both conditions are correct\n"
     ]
    }
   ],
   "source": [
    "x,y = (10,25)\n",
    "if x>3 and y > 13:\n",
    "    print(\"Both conditions are correct\")\n",
    "if x<=3 or y<=13:\n",
    "    print(\"At least one of the conditions is false\")"
   ]
  },
  {
   "cell_type": "markdown",
   "id": "9d307555-9649-42b5-b93e-e92768b2f841",
   "metadata": {},
   "source": [
    "# THE ELSE CONDITION"
   ]
  },
  {
   "cell_type": "code",
   "execution_count": 76,
   "id": "3f219254-e540-4fa7-9cbc-40ed753f598e",
   "metadata": {},
   "outputs": [
    {
     "name": "stdout",
     "output_type": "stream",
     "text": [
      "Not Eligible\n"
     ]
    }
   ],
   "source": [
    "age = 17\n",
    "if age>=18:\n",
    "    print(\"Eligible\")\n",
    "else:\n",
    "    print(\"Not Eligible\")"
   ]
  },
  {
   "cell_type": "code",
   "execution_count": 77,
   "id": "781360da-95fb-4c4a-9cc7-79250cfac0bf",
   "metadata": {},
   "outputs": [
    {
     "name": "stdout",
     "output_type": "stream",
     "text": [
      "A calm day\n"
     ]
    }
   ],
   "source": [
    "# Let x represent the number of orders received during a certain day. Create a program that prints \"A busy day\" if x is greater than 100, and \"A calm day\" otherwise.\n",
    "\n",
    "if x>100:\n",
    "    print(\"A busy day\")\n",
    "else:\n",
    "    print(\"A calm day\")"
   ]
  },
  {
   "cell_type": "code",
   "execution_count": 78,
   "id": "13ba1b8b-f640-4bde-b0cf-299182df69b2",
   "metadata": {},
   "outputs": [
    {
     "data": {
      "text/plain": [
       "10"
      ]
     },
     "execution_count": 78,
     "metadata": {},
     "output_type": "execute_result"
    }
   ],
   "source": [
    "x = 10\n",
    "x"
   ]
  },
  {
   "cell_type": "code",
   "execution_count": 79,
   "id": "3fe1efe2-a916-4acf-9c5d-985d4fc55f2d",
   "metadata": {},
   "outputs": [
    {
     "data": {
      "text/plain": [
       "'Equal'"
      ]
     },
     "execution_count": 79,
     "metadata": {},
     "output_type": "execute_result"
    }
   ],
   "source": [
    "def compare_num(num):\n",
    "    if num>5:\n",
    "        return \"greater\"\n",
    "    elif num<5:\n",
    "        return \"less\"\n",
    "    else:\n",
    "        return \"Equal\"\n",
    "\n",
    "compare_num(5)"
   ]
  },
  {
   "cell_type": "code",
   "execution_count": 80,
   "id": "fbea2272-f71c-4968-be5a-9f51de90d345",
   "metadata": {},
   "outputs": [
    {
     "name": "stdout",
     "output_type": "stream",
     "text": [
      "Average\n"
     ]
    }
   ],
   "source": [
    "x=104\n",
    "if x>200:\n",
    "    print(\"Big\")\n",
    "elif 100<x<=200:\n",
    "    print(\"Average\")\n",
    "elif x<=100:\n",
    "    print(\"Small\")"
   ]
  },
  {
   "cell_type": "markdown",
   "id": "b6db3f62-d6b4-4313-ab8f-dfce630c48c1",
   "metadata": {},
   "source": [
    "# FUNCTIONS In PYTHON"
   ]
  },
  {
   "cell_type": "code",
   "execution_count": 81,
   "id": "bc8b2dc3-411c-4d52-b9f1-57901fc5efe3",
   "metadata": {},
   "outputs": [
    {
     "data": {
      "text/plain": [
       "'1st Function'"
      ]
     },
     "execution_count": 81,
     "metadata": {},
     "output_type": "execute_result"
    }
   ],
   "source": [
    "def simple_function():\n",
    "    return \"1st Function\"\n",
    "\n",
    "simple_function()"
   ]
  },
  {
   "cell_type": "code",
   "execution_count": 82,
   "id": "38146f20-2b03-497e-b1c3-1a1bf8d7dea1",
   "metadata": {},
   "outputs": [
    {
     "data": {
      "text/plain": [
       "16"
      ]
     },
     "execution_count": 82,
     "metadata": {},
     "output_type": "execute_result"
    }
   ],
   "source": [
    "def sqr_num(num):\n",
    "    return num**2\n",
    "\n",
    "sqr_num(4)"
   ]
  },
  {
   "cell_type": "code",
   "execution_count": 83,
   "id": "9a0a9fa1-734c-4ee9-983a-aeb90340bf3d",
   "metadata": {},
   "outputs": [
    {
     "data": {
      "text/plain": [
       "8"
      ]
     },
     "execution_count": 83,
     "metadata": {},
     "output_type": "execute_result"
    }
   ],
   "source": [
    "# Define a function called multiplication_by_2(x) that returns a value equal to its argument multiplied by 2.\n",
    "def multiplication_by_2(x):\n",
    "    return 2*x\n",
    "\n",
    "multiplication_by_2(4)"
   ]
  },
  {
   "cell_type": "code",
   "execution_count": 84,
   "id": "4ae1c566-3e48-46c3-a8d2-130b93393666",
   "metadata": {},
   "outputs": [
    {
     "data": {
      "text/plain": [
       "2.5"
      ]
     },
     "execution_count": 84,
     "metadata": {},
     "output_type": "execute_result"
    }
   ],
   "source": [
    "# Define a function called division_by_2(x) that returns a float value equal to its argument divided by 2.\n",
    "def division_by_2(num):\n",
    "    return num/2\n",
    "\n",
    "division_by_2(5)"
   ]
  },
  {
   "cell_type": "code",
   "execution_count": 85,
   "id": "89cadc43-6848-461b-9f4f-2a2d266b1467",
   "metadata": {},
   "outputs": [
    {
     "data": {
      "text/plain": [
       "9"
      ]
     },
     "execution_count": 85,
     "metadata": {},
     "output_type": "execute_result"
    }
   ],
   "source": [
    "def exponentiation_exp_2(x):\n",
    "    result=x**2 \n",
    "    return result\n",
    "    \n",
    "exponentiation_exp_2(3)"
   ]
  },
  {
   "cell_type": "code",
   "execution_count": 86,
   "id": "29a04ffc-40de-42fe-bd2c-e8e4b7121315",
   "metadata": {},
   "outputs": [
    {
     "data": {
      "text/plain": [
       "150"
      ]
     },
     "execution_count": 86,
     "metadata": {},
     "output_type": "execute_result"
    }
   ],
   "source": [
    "def wage(hrs):\n",
    "    return hrs*25\n",
    "\n",
    "def with_bonus(hrs):\n",
    "    return wage(hrs) + 50\n",
    "\n",
    "with_bonus(4)"
   ]
  },
  {
   "cell_type": "code",
   "execution_count": 87,
   "id": "3492135e-a6e0-4c68-a5a8-e108e60299bc",
   "metadata": {},
   "outputs": [
    {
     "data": {
      "text/plain": [
       "'save more'"
      ]
     },
     "execution_count": 87,
     "metadata": {},
     "output_type": "execute_result"
    }
   ],
   "source": [
    "def add_10(n):\n",
    "    if n>=100:\n",
    "        n=n+10\n",
    "        return n\n",
    "    else:\n",
    "        return \"save more\"\n",
    "\n",
    "add_10(90)"
   ]
  },
  {
   "cell_type": "markdown",
   "id": "1b6f9366-40c3-48bb-b120-c5ca5d054651",
   "metadata": {},
   "source": [
    "# NOTABLE BUILT-IN FUNCTIONS"
   ]
  },
  {
   "cell_type": "code",
   "execution_count": 88,
   "id": "3c9817df-abbc-44e8-a2cd-9a28d00af23f",
   "metadata": {},
   "outputs": [
    {
     "data": {
      "text/plain": [
       "44"
      ]
     },
     "execution_count": 88,
     "metadata": {},
     "output_type": "execute_result"
    }
   ],
   "source": [
    "max(1,20,40,44)"
   ]
  },
  {
   "cell_type": "code",
   "execution_count": 89,
   "id": "0c0538de-b265-4f01-8f70-28a9533d2627",
   "metadata": {},
   "outputs": [
    {
     "data": {
      "text/plain": [
       "0.3"
      ]
     },
     "execution_count": 89,
     "metadata": {},
     "output_type": "execute_result"
    }
   ],
   "source": [
    "min(4,3,55,0.3)"
   ]
  },
  {
   "cell_type": "code",
   "execution_count": 90,
   "id": "bc868a8f-a52e-4f93-935e-12c2491bc492",
   "metadata": {},
   "outputs": [
    {
     "data": {
      "text/plain": [
       "0.4"
      ]
     },
     "execution_count": 90,
     "metadata": {},
     "output_type": "execute_result"
    }
   ],
   "source": [
    "abs(0.4)"
   ]
  },
  {
   "cell_type": "code",
   "execution_count": 91,
   "id": "4e372edd-13cc-49da-abfb-19d214cf971e",
   "metadata": {},
   "outputs": [
    {
     "data": {
      "text/plain": [
       "3"
      ]
     },
     "execution_count": 91,
     "metadata": {},
     "output_type": "execute_result"
    }
   ],
   "source": [
    "abs(-3)"
   ]
  },
  {
   "cell_type": "code",
   "execution_count": 92,
   "id": "d629c132-dce4-4a2b-aac0-53f755d164c5",
   "metadata": {},
   "outputs": [
    {
     "data": {
      "text/plain": [
       "15"
      ]
     },
     "execution_count": 92,
     "metadata": {},
     "output_type": "execute_result"
    }
   ],
   "source": [
    "lst = [1,2,3,4,5]\n",
    "sum(lst)"
   ]
  },
  {
   "cell_type": "code",
   "execution_count": 93,
   "id": "be9ffbdb-21a9-42c4-80bf-12f63c2b8941",
   "metadata": {},
   "outputs": [
    {
     "data": {
      "text/plain": [
       "2.34"
      ]
     },
     "execution_count": 93,
     "metadata": {},
     "output_type": "execute_result"
    }
   ],
   "source": [
    "round(2.342,2)"
   ]
  },
  {
   "cell_type": "code",
   "execution_count": 94,
   "id": "09d32c14-7e4f-47cc-a98f-d1ac9f1aa673",
   "metadata": {},
   "outputs": [
    {
     "data": {
      "text/plain": [
       "3"
      ]
     },
     "execution_count": 94,
     "metadata": {},
     "output_type": "execute_result"
    }
   ],
   "source": [
    "round(2.8)"
   ]
  },
  {
   "cell_type": "code",
   "execution_count": 95,
   "id": "22cafad1-b2c9-4118-bd2a-befa1a2bc6ac",
   "metadata": {},
   "outputs": [
    {
     "data": {
      "text/plain": [
       "8"
      ]
     },
     "execution_count": 95,
     "metadata": {},
     "output_type": "execute_result"
    }
   ],
   "source": [
    "pow(2,3)"
   ]
  },
  {
   "cell_type": "code",
   "execution_count": 96,
   "id": "6c00bfe9-d025-4a7d-85b2-5715c5b8bb48",
   "metadata": {},
   "outputs": [
    {
     "data": {
      "text/plain": [
       "27"
      ]
     },
     "execution_count": 96,
     "metadata": {},
     "output_type": "execute_result"
    }
   ],
   "source": [
    "pow(3,3)"
   ]
  },
  {
   "cell_type": "code",
   "execution_count": 97,
   "id": "d0c98be2-16ec-4f99-8772-ab4befe38b05",
   "metadata": {},
   "outputs": [
    {
     "data": {
      "text/plain": [
       "6"
      ]
     },
     "execution_count": 97,
     "metadata": {},
     "output_type": "execute_result"
    }
   ],
   "source": [
    "len(\"Python\")"
   ]
  },
  {
   "cell_type": "code",
   "execution_count": 98,
   "id": "b733b38d-5946-46c6-99ea-33735a19c545",
   "metadata": {},
   "outputs": [
    {
     "data": {
      "text/plain": [
       "12"
      ]
     },
     "execution_count": 98,
     "metadata": {},
     "output_type": "execute_result"
    }
   ],
   "source": [
    "len(\"Data Analyst\")"
   ]
  },
  {
   "cell_type": "code",
   "execution_count": 99,
   "id": "20625903-f308-47a8-9854-d8d25b5744cf",
   "metadata": {},
   "outputs": [
    {
     "data": {
      "text/plain": [
       "890"
      ]
     },
     "execution_count": 99,
     "metadata": {},
     "output_type": "execute_result"
    }
   ],
   "source": [
    "# Obtain the maximum number among the values 25, 65, 890, and 15.\n",
    "max(25,65,890,15)"
   ]
  },
  {
   "cell_type": "code",
   "execution_count": 100,
   "id": "59dd65e5-e1a9-46e4-9140-34debf0dba8d",
   "metadata": {},
   "outputs": [
    {
     "data": {
      "text/plain": [
       "15"
      ]
     },
     "execution_count": 100,
     "metadata": {},
     "output_type": "execute_result"
    }
   ],
   "source": [
    "# Obtain the minimum number among the values 25, 65, 890, and 15.\n",
    "min(25,65,890,15)"
   ]
  },
  {
   "cell_type": "code",
   "execution_count": 101,
   "id": "9370a573-8acb-429f-8730-61224b86b91d",
   "metadata": {},
   "outputs": [],
   "source": [
    "# Find the absolute value of -100."
   ]
  },
  {
   "cell_type": "code",
   "execution_count": 102,
   "id": "7b984fb0-3b2d-41b6-a881-2118ce68751d",
   "metadata": {},
   "outputs": [
    {
     "data": {
      "text/plain": [
       "100"
      ]
     },
     "execution_count": 102,
     "metadata": {},
     "output_type": "execute_result"
    }
   ],
   "source": [
    "abs(-100)"
   ]
  },
  {
   "cell_type": "code",
   "execution_count": 103,
   "id": "716eb4b1-ea93-4fd9-98b8-bc63feafcfba",
   "metadata": {},
   "outputs": [
    {
     "data": {
      "text/plain": [
       "56"
      ]
     },
     "execution_count": 103,
     "metadata": {},
     "output_type": "execute_result"
    }
   ],
   "source": [
    "# Round the value of 55.5.\n",
    "round(55.5)"
   ]
  },
  {
   "cell_type": "code",
   "execution_count": 104,
   "id": "fab58b33-b40e-42cb-b2ca-8c774385d2d7",
   "metadata": {},
   "outputs": [
    {
     "data": {
      "text/plain": [
       "35.568"
      ]
     },
     "execution_count": 104,
     "metadata": {},
     "output_type": "execute_result"
    }
   ],
   "source": [
    "# Round 35.56789 to the third digit.\n",
    "round(35.56789,3)"
   ]
  },
  {
   "cell_type": "code",
   "execution_count": 105,
   "id": "9f68e333-c2a0-4c22-bef5-e7db0fae302f",
   "metadata": {},
   "outputs": [
    {
     "data": {
      "text/plain": [
       "94.5"
      ]
     },
     "execution_count": 105,
     "metadata": {},
     "output_type": "execute_result"
    }
   ],
   "source": [
    "# Find the sum of all elements in the provided list, called \"Numbers\".\n",
    "Numbers = [1, 5, 64, 24.5]\n",
    "sum(Numbers)"
   ]
  },
  {
   "cell_type": "code",
   "execution_count": 106,
   "id": "f5792c1e-0957-448e-ace6-e41cdbc9af4c",
   "metadata": {},
   "outputs": [
    {
     "data": {
      "text/plain": [
       "1000"
      ]
     },
     "execution_count": 106,
     "metadata": {},
     "output_type": "execute_result"
    }
   ],
   "source": [
    "# Use a built-in function to raise 10 to the power of 3.\n",
    "pow(10,3)"
   ]
  },
  {
   "cell_type": "code",
   "execution_count": 107,
   "id": "d6b48517-d35a-4069-aff4-5a6ffd999f1f",
   "metadata": {},
   "outputs": [
    {
     "data": {
      "text/plain": [
       "8"
      ]
     },
     "execution_count": 107,
     "metadata": {},
     "output_type": "execute_result"
    }
   ],
   "source": [
    "# In one line of code, find how many characters there are in the word \"Elephant\"?\n",
    "len(\"Elephant\")"
   ]
  },
  {
   "cell_type": "code",
   "execution_count": 108,
   "id": "ad801d03-08e0-496e-a962-4359d6158ac1",
   "metadata": {},
   "outputs": [
    {
     "name": "stdout",
     "output_type": "stream",
     "text": [
      "Not possible\n"
     ]
    }
   ],
   "source": [
    "# Create a function, called distance_from_zero(), that returns the absolute value of a provided single argument \n",
    "# and prints a statement \"Not possible\" if the argument provided is not a number. To solve the task, use the type() function in the body of distance_from_zero().\n",
    "def distance_from_zero(n):\n",
    "    if type(n) is int:\n",
    "        return abs(n)\n",
    "    else:\n",
    "        print(\"Not possible\")\n",
    "\n",
    "distance_from_zero(\"string\")"
   ]
  },
  {
   "cell_type": "markdown",
   "id": "3cc9d94d-6f95-48b1-9def-e129484eb641",
   "metadata": {},
   "source": [
    "# LIST IN PYTHON"
   ]
  },
  {
   "cell_type": "code",
   "execution_count": 109,
   "id": "1880ce94-11c2-4502-8483-b8d5853bb606",
   "metadata": {},
   "outputs": [
    {
     "data": {
      "text/plain": [
       "['john', 'connor', 'cate', 'max']"
      ]
     },
     "execution_count": 109,
     "metadata": {},
     "output_type": "execute_result"
    }
   ],
   "source": [
    "participants = [\"john\",\"connor\", \"cate\", \"max\"]\n",
    "participants"
   ]
  },
  {
   "cell_type": "code",
   "execution_count": 110,
   "id": "5410eb48-1db1-4522-8b2c-87a600320707",
   "metadata": {},
   "outputs": [
    {
     "data": {
      "text/plain": [
       "list"
      ]
     },
     "execution_count": 110,
     "metadata": {},
     "output_type": "execute_result"
    }
   ],
   "source": [
    "type(participants)"
   ]
  },
  {
   "cell_type": "code",
   "execution_count": 111,
   "id": "ed656667-8862-4f26-a31e-ea4c7d173569",
   "metadata": {},
   "outputs": [
    {
     "name": "stdout",
     "output_type": "stream",
     "text": [
      "cate\n"
     ]
    }
   ],
   "source": [
    "print(participants[2])"
   ]
  },
  {
   "cell_type": "code",
   "execution_count": 112,
   "id": "ba553b24-f310-428b-adfb-c7672465fbaf",
   "metadata": {},
   "outputs": [
    {
     "data": {
      "text/plain": [
       "'cate'"
      ]
     },
     "execution_count": 112,
     "metadata": {},
     "output_type": "execute_result"
    }
   ],
   "source": [
    "participants[-2]"
   ]
  },
  {
   "cell_type": "code",
   "execution_count": 113,
   "id": "8c3ccd70-59ba-463c-a48f-f84fd199676b",
   "metadata": {},
   "outputs": [],
   "source": [
    "# We can change, add, or remove items in a list after it has been created.\n",
    "participants[3]= \"Bruce\""
   ]
  },
  {
   "cell_type": "code",
   "execution_count": 114,
   "id": "959d1770-9c36-4237-9932-fe6f937b8694",
   "metadata": {},
   "outputs": [
    {
     "data": {
      "text/plain": [
       "['john', 'connor', 'cate', 'Bruce']"
      ]
     },
     "execution_count": 114,
     "metadata": {},
     "output_type": "execute_result"
    }
   ],
   "source": [
    "participants"
   ]
  },
  {
   "cell_type": "code",
   "execution_count": 115,
   "id": "3cd22d70-691d-41c4-b0de-71b2a594ce4a",
   "metadata": {},
   "outputs": [],
   "source": [
    "# We can delete the value by selecting index of list by using del function\n",
    "del participants[1]"
   ]
  },
  {
   "cell_type": "code",
   "execution_count": 116,
   "id": "4fb9f21c-745f-44c2-8d36-595db4e32699",
   "metadata": {},
   "outputs": [
    {
     "data": {
      "text/plain": [
       "['john', 'cate', 'Bruce']"
      ]
     },
     "execution_count": 116,
     "metadata": {},
     "output_type": "execute_result"
    }
   ],
   "source": [
    "participants"
   ]
  },
  {
   "cell_type": "code",
   "execution_count": 117,
   "id": "99f164e2-ebd5-4bcd-8482-a8ee96ad3879",
   "metadata": {},
   "outputs": [
    {
     "name": "stdout",
     "output_type": "stream",
     "text": [
      "40\n"
     ]
    }
   ],
   "source": [
    "# Create a list, called Numbers. Let it contain the numbers 10, 25, 40, and 50.Print the element at index 2 from the list.\n",
    "Numbers = [10,25,40,50]\n",
    "print(Numbers[2])"
   ]
  },
  {
   "cell_type": "code",
   "execution_count": 118,
   "id": "29a303e6-bb58-4f5e-a6ab-8914d10ceb46",
   "metadata": {},
   "outputs": [
    {
     "name": "stdout",
     "output_type": "stream",
     "text": [
      "25\n"
     ]
    }
   ],
   "source": [
    "# Print the third-to-last element from the Numbers list using a minus sign in the brackets.\n",
    "Numbers = [10,25,40,50]\n",
    "print(Numbers[-3])"
   ]
  },
  {
   "cell_type": "code",
   "execution_count": 119,
   "id": "2e47a1dd-c0b5-4325-9c06-dbb1ca81930e",
   "metadata": {},
   "outputs": [
    {
     "data": {
      "text/plain": [
       "[15, 25, 40, 50]"
      ]
     },
     "execution_count": 119,
     "metadata": {},
     "output_type": "execute_result"
    }
   ],
   "source": [
    "# Replace the number 10 with the number 15 in the Numbers list.\n",
    "Numbers = [10,25,40,50]\n",
    "Numbers[0] = 15\n",
    "Numbers"
   ]
  },
  {
   "cell_type": "code",
   "execution_count": 120,
   "id": "bc94d824-867a-4ce1-a918-d436ffcf1dff",
   "metadata": {},
   "outputs": [
    {
     "data": {
      "text/plain": [
       "[10, 40, 50]"
      ]
     },
     "execution_count": 120,
     "metadata": {},
     "output_type": "execute_result"
    }
   ],
   "source": [
    "# Delete the number 25 from the Numbers list.\n",
    "Numbers = [10, 25, 40, 50]\n",
    "del Numbers[1]\n",
    "Numbers"
   ]
  },
  {
   "cell_type": "markdown",
   "id": "5b3a04f4-30eb-4a6d-904c-08a02b0f7534",
   "metadata": {},
   "source": [
    "# Append"
   ]
  },
  {
   "cell_type": "code",
   "execution_count": 121,
   "id": "84bb65b6-7196-4887-8b0d-162e395ec9d6",
   "metadata": {},
   "outputs": [
    {
     "data": {
      "text/plain": [
       "['john', 'cate', 'Bruce', 'Wayne']"
      ]
     },
     "execution_count": 121,
     "metadata": {},
     "output_type": "execute_result"
    }
   ],
   "source": [
    "#append method in Python is used to add a single item to the end of a list.\n",
    "participants.append('Wayne')\n",
    "participants"
   ]
  },
  {
   "cell_type": "code",
   "execution_count": 122,
   "id": "9432a5bc-ac9d-499d-b264-54c517959566",
   "metadata": {},
   "outputs": [
    {
     "data": {
      "text/plain": [
       "['john', 'cate', 'Bruce', 'Wayne', 'Bane', 'Gordon', 'Cat']"
      ]
     },
     "execution_count": 122,
     "metadata": {},
     "output_type": "execute_result"
    }
   ],
   "source": [
    "#extend method is used to add multiple items from an iterable (such as another list, a tuple, or a string) to the end of the list.\n",
    "participants.extend(['Bane', 'Gordon','Cat'])\n",
    "participants"
   ]
  },
  {
   "cell_type": "code",
   "execution_count": 123,
   "id": "b948547e-6c61-4321-a858-7e385defebde",
   "metadata": {},
   "outputs": [
    {
     "name": "stdout",
     "output_type": "stream",
     "text": [
      "The 1st name is john.\n"
     ]
    }
   ],
   "source": [
    "print(\"The 1st name is \" + participants[0] + \".\")"
   ]
  },
  {
   "cell_type": "code",
   "execution_count": 124,
   "id": "2db9fbaf-7e04-4a51-83e4-41ed3584bd5c",
   "metadata": {},
   "outputs": [
    {
     "data": {
      "text/plain": [
       "7"
      ]
     },
     "execution_count": 124,
     "metadata": {},
     "output_type": "execute_result"
    }
   ],
   "source": [
    "len(participants)"
   ]
  },
  {
   "cell_type": "code",
   "execution_count": 125,
   "id": "ba58096d-097a-40ea-ac14-66221eaf44e2",
   "metadata": {},
   "outputs": [
    {
     "data": {
      "text/plain": [
       "[15, 40, 50, 100]"
      ]
     },
     "execution_count": 125,
     "metadata": {},
     "output_type": "execute_result"
    }
   ],
   "source": [
    "# Append the number 100 to the Numbers list.\n",
    "Numbers = [15, 40, 50]\n",
    "Numbers.append(100)\n",
    "Numbers"
   ]
  },
  {
   "cell_type": "code",
   "execution_count": 126,
   "id": "d780375c-2046-471f-b4b2-59c46087da86",
   "metadata": {},
   "outputs": [
    {
     "data": {
      "text/plain": [
       "[15, 40, 50, 100, 115, 140]"
      ]
     },
     "execution_count": 126,
     "metadata": {},
     "output_type": "execute_result"
    }
   ],
   "source": [
    "# With the help of the .extend() method, add the numbers 115 an 140 to the Numbers list\n",
    "Numbers = [15, 40, 50, 100]\n",
    "Numbers.extend([115,140])\n",
    "Numbers"
   ]
  },
  {
   "cell_type": "code",
   "execution_count": 127,
   "id": "e7e48431-0887-4bee-be64-fdf103a185c1",
   "metadata": {},
   "outputs": [
    {
     "name": "stdout",
     "output_type": "stream",
     "text": [
      "The fourth element of the Numbers list is 100\n"
     ]
    }
   ],
   "source": [
    "# Print a statement, saying \"The fourth element of the Numbers list is\" followed by \n",
    "# the value of the fourth element of the Numbers list. Ensure you use a trailing comma to concatenate the statement with the value.\n",
    "Numbers = [15, 40, 50, 100, 115, 140]\n",
    "print(\"The fourth element of the Numbers list is\",(Numbers[3]))"
   ]
  },
  {
   "cell_type": "code",
   "execution_count": 128,
   "id": "8aa4d026-1416-4fb0-9623-1a9641f1757f",
   "metadata": {},
   "outputs": [
    {
     "name": "stdout",
     "output_type": "stream",
     "text": [
      "6\n"
     ]
    }
   ],
   "source": [
    "# Currently, how many elements are there in the Numbers list?\n",
    "Numbers = [15, 40, 50, 100, 115, 140]\n",
    "print(len(Numbers))"
   ]
  },
  {
   "cell_type": "markdown",
   "id": "e8827d61-5a4a-4d30-8188-20acdf5540f7",
   "metadata": {},
   "source": [
    "# SLICING "
   ]
  },
  {
   "cell_type": "code",
   "execution_count": 129,
   "id": "483b72da-77b5-4cb7-ae16-ccfb7496add8",
   "metadata": {},
   "outputs": [],
   "source": [
    "participants\n",
    "Numbers = [1,2,3,4,5,6]"
   ]
  },
  {
   "cell_type": "code",
   "execution_count": 130,
   "id": "c97c60b7-0019-42f1-9d17-31bdc330b1f4",
   "metadata": {},
   "outputs": [
    {
     "data": {
      "text/plain": [
       "[2, 3, 4]"
      ]
     },
     "execution_count": 130,
     "metadata": {},
     "output_type": "execute_result"
    }
   ],
   "source": [
    "Numbers[1:4]"
   ]
  },
  {
   "cell_type": "code",
   "execution_count": 131,
   "id": "b6fccc16-56fb-4e79-a63b-794453b66da2",
   "metadata": {},
   "outputs": [
    {
     "data": {
      "text/plain": [
       "[1, 2, 3]"
      ]
     },
     "execution_count": 131,
     "metadata": {},
     "output_type": "execute_result"
    }
   ],
   "source": [
    "# Below will give us the from start index to till 2nd index\n",
    "Numbers[:3]"
   ]
  },
  {
   "cell_type": "code",
   "execution_count": 132,
   "id": "5f49db28-34e8-4d21-b64c-79a766ebd68d",
   "metadata": {},
   "outputs": [
    {
     "data": {
      "text/plain": [
       "[4, 5, 6]"
      ]
     },
     "execution_count": 132,
     "metadata": {},
     "output_type": "execute_result"
    }
   ],
   "source": [
    "# This will give us starting from index 3 and till end\n",
    "Numbers[3:]"
   ]
  },
  {
   "cell_type": "code",
   "execution_count": 133,
   "id": "e004f4f7-772d-47ae-ac6a-0947a8d851fb",
   "metadata": {},
   "outputs": [
    {
     "data": {
      "text/plain": [
       "3"
      ]
     },
     "execution_count": 133,
     "metadata": {},
     "output_type": "execute_result"
    }
   ],
   "source": [
    "Numbers.index(4)"
   ]
  },
  {
   "cell_type": "code",
   "execution_count": 134,
   "id": "6025c2e2-c6d8-4664-8dce-771a3e0bf293",
   "metadata": {},
   "outputs": [],
   "source": [
    "new_list = [participants,Numbers]"
   ]
  },
  {
   "cell_type": "code",
   "execution_count": 135,
   "id": "a86634a2-55d0-4103-9380-3caa59c90990",
   "metadata": {},
   "outputs": [
    {
     "data": {
      "text/plain": [
       "[['john', 'cate', 'Bruce', 'Wayne', 'Bane', 'Gordon', 'Cat'],\n",
       " [1, 2, 3, 4, 5, 6]]"
      ]
     },
     "execution_count": 135,
     "metadata": {},
     "output_type": "execute_result"
    }
   ],
   "source": [
    "new_list"
   ]
  },
  {
   "cell_type": "code",
   "execution_count": 136,
   "id": "f4694019-e236-46db-8f97-85d747693c2e",
   "metadata": {},
   "outputs": [
    {
     "data": {
      "text/plain": [
       "[100, 115]"
      ]
     },
     "execution_count": 136,
     "metadata": {},
     "output_type": "execute_result"
    }
   ],
   "source": [
    "# Using list slicing, obtain the numbers 100 and 115.\n",
    "Numbers = [15, 40, 50, 100, 115, 140]\n",
    "Numbers[3:5]"
   ]
  },
  {
   "cell_type": "code",
   "execution_count": 137,
   "id": "ecbbaec3-1628-4003-aabb-2de94b59b447",
   "metadata": {},
   "outputs": [
    {
     "data": {
      "text/plain": [
       "[15, 40, 50, 100]"
      ]
     },
     "execution_count": 137,
     "metadata": {},
     "output_type": "execute_result"
    }
   ],
   "source": [
    "# Using slicing, extract the first four elements from the list.\n",
    "Numbers = [15, 40, 50, 100, 115, 140]\n",
    "Numbers[:4]"
   ]
  },
  {
   "cell_type": "code",
   "execution_count": 138,
   "id": "b504bf39-2ace-4eb6-ab5a-736657858c76",
   "metadata": {},
   "outputs": [
    {
     "data": {
      "text/plain": [
       "[100, 115, 140]"
      ]
     },
     "execution_count": 138,
     "metadata": {},
     "output_type": "execute_result"
    }
   ],
   "source": [
    "# Using slicing, extract all the elements from the list from the 3rd position onwards.\n",
    "Numbers = [15, 40, 50, 100, 115, 140]\n",
    "Numbers[3:]"
   ]
  },
  {
   "cell_type": "code",
   "execution_count": 139,
   "id": "9616fee6-2e25-4792-a072-cdd9defa4ab0",
   "metadata": {},
   "outputs": [
    {
     "data": {
      "text/plain": [
       "[50, 100, 115, 140]"
      ]
     },
     "execution_count": 139,
     "metadata": {},
     "output_type": "execute_result"
    }
   ],
   "source": [
    "# Using slicing, extract the last 4 elements from the list.\n",
    "Numbers = [15, 40, 50, 100, 115, 140]\n",
    "Numbers[-4:]"
   ]
  },
  {
   "cell_type": "code",
   "execution_count": 140,
   "id": "ce5179ea-ed0a-46c0-8a9e-4c09f8ecfc93",
   "metadata": {},
   "outputs": [
    {
     "data": {
      "text/plain": [
       "0"
      ]
     },
     "execution_count": 140,
     "metadata": {},
     "output_type": "execute_result"
    }
   ],
   "source": [
    "# Which is the position of the value 15?\n",
    "Numbers = [15, 40, 50, 100, 115, 140]\n",
    "Numbers.index(15)"
   ]
  },
  {
   "cell_type": "code",
   "execution_count": 141,
   "id": "a97eb6a5-d223-421c-ab88-2244669ff75a",
   "metadata": {},
   "outputs": [
    {
     "data": {
      "text/plain": [
       "[1, 2, 15, 40, 50, 100, 115, 140]"
      ]
     },
     "execution_count": 141,
     "metadata": {},
     "output_type": "execute_result"
    }
   ],
   "source": [
    "# Create a list, called Two_Numbers. Let its elements be the values 1 and 2. \n",
    "# Then, create a new one, named All_Numbers, that will contain both the Two_Numbers and the Numbers lists in the given order.\n",
    "Numbers = [15, 40, 50, 100, 115, 140]\n",
    "Two_Numbers = [1,2]\n",
    "\n",
    "All_Numbers = Two_Numbers + Numbers\n",
    "All_Numbers"
   ]
  },
  {
   "cell_type": "code",
   "execution_count": 142,
   "id": "7d0264bd-24aa-4ca0-ad35-d4b277899f69",
   "metadata": {},
   "outputs": [
    {
     "name": "stdout",
     "output_type": "stream",
     "text": [
      "[140, 115, 100, 50, 40, 15]\n"
     ]
    }
   ],
   "source": [
    "# Sort all the numbers in the Numbers list from the largest to the smallest.\n",
    "Numbers = [15, 40, 50, 100, 115, 140]\n",
    "Numbers.sort(reverse=True)\n",
    "print(Numbers)"
   ]
  },
  {
   "cell_type": "markdown",
   "id": "b832cb6d-4ae1-45df-a693-be99a4c43d36",
   "metadata": {},
   "source": [
    "# TUPLES"
   ]
  },
  {
   "cell_type": "code",
   "execution_count": 143,
   "id": "3c057a95-89ef-4088-b3c7-1009a7564bbe",
   "metadata": {},
   "outputs": [
    {
     "data": {
      "text/plain": [
       "tuple"
      ]
     },
     "execution_count": 143,
     "metadata": {},
     "output_type": "execute_result"
    }
   ],
   "source": [
    "x = (1,4,3,9)\n",
    "type(x)"
   ]
  },
  {
   "cell_type": "code",
   "execution_count": 144,
   "id": "1c4d7209-45a8-44d1-a8ec-92cf706dca17",
   "metadata": {},
   "outputs": [
    {
     "data": {
      "text/plain": [
       "(1, 4, 3, 9)"
      ]
     },
     "execution_count": 144,
     "metadata": {},
     "output_type": "execute_result"
    }
   ],
   "source": [
    "x"
   ]
  },
  {
   "cell_type": "code",
   "execution_count": 145,
   "id": "409025a7-0fe7-42b4-a069-e6f5b5cb68bf",
   "metadata": {},
   "outputs": [
    {
     "data": {
      "text/plain": [
       "(2, 3, 5, 89, 90)"
      ]
     },
     "execution_count": 145,
     "metadata": {},
     "output_type": "execute_result"
    }
   ],
   "source": [
    "y = 2,3,5,89,90\n",
    "y"
   ]
  },
  {
   "cell_type": "code",
   "execution_count": 146,
   "id": "929acc40-cb3d-4771-83af-14774e89d603",
   "metadata": {},
   "outputs": [
    {
     "data": {
      "text/plain": [
       "tuple"
      ]
     },
     "execution_count": 146,
     "metadata": {},
     "output_type": "execute_result"
    }
   ],
   "source": [
    "type(y)"
   ]
  },
  {
   "cell_type": "code",
   "execution_count": 147,
   "id": "7bc188e0-93c6-4250-971a-07c7f3705883",
   "metadata": {},
   "outputs": [
    {
     "data": {
      "text/plain": [
       "[(1, 4, 3, 9), (2, 3, 5, 89, 90)]"
      ]
     },
     "execution_count": 147,
     "metadata": {},
     "output_type": "execute_result"
    }
   ],
   "source": [
    "list_1 = [x,y]\n",
    "list_1"
   ]
  },
  {
   "cell_type": "code",
   "execution_count": 148,
   "id": "40b17a1e-339d-42d4-a327-b395f1c7754f",
   "metadata": {},
   "outputs": [],
   "source": [
    "(age, years_of_scool) = \"27,18\".split(\",\")"
   ]
  },
  {
   "cell_type": "code",
   "execution_count": 149,
   "id": "1c2377c2-e5db-4afe-8389-3285c4b6de50",
   "metadata": {},
   "outputs": [
    {
     "name": "stdout",
     "output_type": "stream",
     "text": [
      "27\n",
      "18\n"
     ]
    }
   ],
   "source": [
    "print(age)\n",
    "print(years_of_scool)"
   ]
  },
  {
   "cell_type": "code",
   "execution_count": 150,
   "id": "443fe30e-cda1-4a4c-bc8e-bf80a4971aec",
   "metadata": {},
   "outputs": [
    {
     "name": "stdout",
     "output_type": "stream",
     "text": [
      "Area and Perimeter\n"
     ]
    },
    {
     "data": {
      "text/plain": [
       "(25, 20)"
      ]
     },
     "execution_count": 150,
     "metadata": {},
     "output_type": "execute_result"
    }
   ],
   "source": [
    "def square_info(x):\n",
    "    A=x**2\n",
    "    P=4*x\n",
    "    print(\"Area and Perimeter\")\n",
    "    return A,P\n",
    "\n",
    "square_info(5)"
   ]
  },
  {
   "cell_type": "code",
   "execution_count": 151,
   "id": "a02b5f86-bca3-491e-941e-1b11f7fdf9f5",
   "metadata": {},
   "outputs": [
    {
     "data": {
      "text/plain": [
       "'Dodge'"
      ]
     },
     "execution_count": 151,
     "metadata": {},
     "output_type": "execute_result"
    }
   ],
   "source": [
    "# Access the second element of the Cars tuple\n",
    "Cars = (\"BMW\", \"Dodge\", \"Ford\")\n",
    "Cars[1]"
   ]
  },
  {
   "cell_type": "code",
   "execution_count": 152,
   "id": "30c8b349-03e1-4175-8fbe-92af8536797f",
   "metadata": {},
   "outputs": [
    {
     "name": "stdout",
     "output_type": "stream",
     "text": [
      "Peter\n",
      "24\n"
     ]
    }
   ],
   "source": [
    "# Call a method that would allow you to extract the provided name and age separately.\n",
    "# Then print the name and age values to see if you worked correctly.\n",
    "name, age = 'Peter,24'.split(\",\")\n",
    "print(name)\n",
    "print(age)"
   ]
  },
  {
   "cell_type": "code",
   "execution_count": 153,
   "id": "95335210-0072-4912-8be9-705371cd0c75",
   "metadata": {},
   "outputs": [
    {
     "name": "stdout",
     "output_type": "stream",
     "text": [
      "(12, 14)\n"
     ]
    }
   ],
   "source": [
    "# Create a function called rectangle_info() that takes the length and width of a rectangle as arguments. \n",
    "# The function should then return the area and the perimeter of the rectangle. Call the function with arguments 2 and 10 to verify it worked correctly.\n",
    "\n",
    "def rectangle_info(l,w):\n",
    "    A=l*w\n",
    "    P=2*(l+w)\n",
    "    return A,P\n",
    "\n",
    "ans = rectangle_info(3,4)\n",
    "print(ans)"
   ]
  },
  {
   "cell_type": "markdown",
   "id": "92165617-5ca5-400e-8e3f-fda117a15aff",
   "metadata": {},
   "source": [
    "# DICTIONARIES IN PYTHON"
   ]
  },
  {
   "cell_type": "code",
   "execution_count": 154,
   "id": "58262f3f-bd2a-4ff7-97f2-2a89cb18a776",
   "metadata": {},
   "outputs": [
    {
     "data": {
      "text/plain": [
       "{'k1': 'Cat', 'k2': 'Dog', 'k3': 'Rat'}"
      ]
     },
     "execution_count": 154,
     "metadata": {},
     "output_type": "execute_result"
    }
   ],
   "source": [
    "dict = {'k1': \"Cat\", 'k2':\"Dog\", 'k3': \"Rat\"}\n",
    "dict"
   ]
  },
  {
   "cell_type": "code",
   "execution_count": 155,
   "id": "8a38a59e-172a-4cda-93b9-8e4ddc9dfcff",
   "metadata": {},
   "outputs": [
    {
     "data": {
      "text/plain": [
       "'Dog'"
      ]
     },
     "execution_count": 155,
     "metadata": {},
     "output_type": "execute_result"
    }
   ],
   "source": [
    "dict[\"k2\"]"
   ]
  },
  {
   "cell_type": "code",
   "execution_count": 156,
   "id": "8da8bdc8-b24f-4659-9714-f777be0c9005",
   "metadata": {},
   "outputs": [
    {
     "data": {
      "text/plain": [
       "{'k1': 'Cat', 'k2': 'Dog', 'k3': 'Rat', 'k4': 'Cow'}"
      ]
     },
     "execution_count": 156,
     "metadata": {},
     "output_type": "execute_result"
    }
   ],
   "source": [
    "dict[\"k4\"] = \"Cow\"\n",
    "dict"
   ]
  },
  {
   "cell_type": "code",
   "execution_count": 157,
   "id": "255046c8-ab89-4ef2-b29e-fa1053ab68bf",
   "metadata": {},
   "outputs": [
    {
     "data": {
      "text/plain": [
       "{'k1': 'Cat', 'k2': 'Dog', 'k3': 'Bull', 'k4': 'Cow'}"
      ]
     },
     "execution_count": 157,
     "metadata": {},
     "output_type": "execute_result"
    }
   ],
   "source": [
    "dict[\"k3\"] = \"Bull\"\n",
    "dict"
   ]
  },
  {
   "cell_type": "code",
   "execution_count": 158,
   "id": "b57d4dc0-9c6f-4509-b8c6-97f3f3e380a9",
   "metadata": {},
   "outputs": [
    {
     "data": {
      "text/plain": [
       "{'dept_1': 'Peter', 'dept_2': ['Parker', 'James', 'Fox']}"
      ]
     },
     "execution_count": 158,
     "metadata": {},
     "output_type": "execute_result"
    }
   ],
   "source": [
    "dept_workers = {'dept_1': \"Peter\", 'dept_2': [\"Parker\", \"James\", \"Fox\"]}\n",
    "dept_workers"
   ]
  },
  {
   "cell_type": "code",
   "execution_count": 159,
   "id": "9f98b715-5b87-4781-a312-ef809266c2a4",
   "metadata": {},
   "outputs": [
    {
     "data": {
      "text/plain": [
       "'James'"
      ]
     },
     "execution_count": 159,
     "metadata": {},
     "output_type": "execute_result"
    }
   ],
   "source": [
    "dept_workers[\"dept_2\"][1]"
   ]
  },
  {
   "cell_type": "code",
   "execution_count": 160,
   "id": "b78ca7f1-2a9b-492f-aabd-d8e4ab2ccea0",
   "metadata": {},
   "outputs": [
    {
     "data": {
      "text/plain": [
       "{'India': 'Virat', 'Aus': 'Steve', 'Newz': 'Brandom', 'Eng': 'Joe'}"
      ]
     },
     "execution_count": 160,
     "metadata": {},
     "output_type": "execute_result"
    }
   ],
   "source": [
    "Team = {}\n",
    "Team[\"India\"] = \"Virat\"\n",
    "Team[\"Aus\"] = \"Steve\"\n",
    "Team[\"Newz\"] = \"Brandom\"\n",
    "Team[\"Eng\"] = \"Joe\"\n",
    "Team"
   ]
  },
  {
   "cell_type": "code",
   "execution_count": 161,
   "id": "a55ab2c2-0cdc-4c81-8a55-14be82a3a283",
   "metadata": {},
   "outputs": [
    {
     "data": {
      "text/plain": [
       "'Virat'"
      ]
     },
     "execution_count": 161,
     "metadata": {},
     "output_type": "execute_result"
    }
   ],
   "source": [
    "Team[\"India\"]"
   ]
  },
  {
   "cell_type": "code",
   "execution_count": 162,
   "id": "6723ea72-4920-4d08-8b9b-1149b2a66725",
   "metadata": {},
   "outputs": [
    {
     "data": {
      "text/plain": [
       "'Brandom'"
      ]
     },
     "execution_count": 162,
     "metadata": {},
     "output_type": "execute_result"
    }
   ],
   "source": [
    "Team.get(\"Newz\")"
   ]
  },
  {
   "cell_type": "code",
   "execution_count": 163,
   "id": "0c6acf31-ee47-421c-a279-e831fea2bff4",
   "metadata": {},
   "outputs": [
    {
     "name": "stdout",
     "output_type": "stream",
     "text": [
      "None\n"
     ]
    }
   ],
   "source": [
    "# If the values does not exist within given dictionary then it will show none as default value\n",
    "print(Team.get(\"Srilanka\"))"
   ]
  },
  {
   "cell_type": "code",
   "execution_count": 164,
   "id": "61d627d6-755e-4625-8821-c168c4c12cd2",
   "metadata": {},
   "outputs": [
    {
     "data": {
      "text/plain": [
       "'Fries'"
      ]
     },
     "execution_count": 164,
     "metadata": {},
     "output_type": "execute_result"
    }
   ],
   "source": [
    "# This is the menu of a close-by restaurant:\n",
    "# What is the second meal in the list?\n",
    "Menu = {'meal_1':'Spaghetti', 'meal_2':'Fries', 'meal_3':'Hamburger', 'meal_4':'Lasagna'}\n",
    "Menu[\"meal_2\"]"
   ]
  },
  {
   "cell_type": "code",
   "execution_count": 165,
   "id": "f1b29bb9-2dc7-4b9e-8950-d2c1f0eaafa5",
   "metadata": {},
   "outputs": [
    {
     "data": {
      "text/plain": [
       "{'meal_1': 'Spaghetti',\n",
       " 'meal_2': 'Fries',\n",
       " 'meal_3': 'Hamburger',\n",
       " 'meal_4': 'Lasagna',\n",
       " 'meal_5': 'Soup'}"
      ]
     },
     "execution_count": 165,
     "metadata": {},
     "output_type": "execute_result"
    }
   ],
   "source": [
    "# Add a fifth meal: \"Soup\".\n",
    "Menu[\"meal_5\"] = \"Soup\"\n",
    "Menu"
   ]
  },
  {
   "cell_type": "code",
   "execution_count": 166,
   "id": "f84b1d64-269a-4e28-b98e-765ac978d348",
   "metadata": {},
   "outputs": [
    {
     "data": {
      "text/plain": [
       "{'meal_1': 'Spaghetti',\n",
       " 'meal_2': 'Fries',\n",
       " 'meal_3': 'Hamburger',\n",
       " 'meal_4': 'Lasagna',\n",
       " 'meal_5': 'Soup',\n",
       " 'meal_6': ['Pancakes', 'Ice-cream', 'Tiramisu']}"
      ]
     },
     "execution_count": 166,
     "metadata": {},
     "output_type": "execute_result"
    }
   ],
   "source": [
    "# Attach the Desserts list as a sixth meal\n",
    "Dessert = ['Pancakes', 'Ice-cream', 'Tiramisu']\n",
    "Menu[\"meal_6\"] = Dessert\n",
    "Menu"
   ]
  },
  {
   "cell_type": "code",
   "execution_count": 167,
   "id": "58a36a16-a8c9-4e48-9fab-bc0c954238e5",
   "metadata": {},
   "outputs": [
    {
     "name": "stdout",
     "output_type": "stream",
     "text": [
      "{'Spaghetti': 10, 'Fries': 5, 'Hamburger': 8, 'Lasagna': 12, 'Soup': 5}\n"
     ]
    }
   ],
   "source": [
    "# Create a new dictionary called Price_list that contains the first five meals of the Menu dictionary as keys and assign \n",
    "# the following five values as prices (assumed in dollars): 10, 5, 8, 12, 5. Start by Price_list = {}.\n",
    "Price_list = {}\n",
    "Price_list[\"Spaghetti\"] = 10\n",
    "Price_list[\"Fries\"] = 5\n",
    "Price_list[\"Hamburger\"] = 8\n",
    "Price_list[\"Lasagna\"] = 12\n",
    "Price_list[\"Soup\"] = 5\n",
    "print(Price_list)"
   ]
  },
  {
   "cell_type": "code",
   "execution_count": 168,
   "id": "5757df47-bccd-4e93-b65f-1547db0adcf5",
   "metadata": {},
   "outputs": [
    {
     "name": "stdout",
     "output_type": "stream",
     "text": [
      "10\n"
     ]
    }
   ],
   "source": [
    "# Use the print() function and the .get() method to check the price of the Spaghetti in the Price_list.\n",
    "print(Price_list.get(\"Spaghetti\"))"
   ]
  },
  {
   "cell_type": "markdown",
   "id": "7ed89811-d3e2-48f6-8e45-d3bfe2102f7f",
   "metadata": {},
   "source": [
    "# FOR LOOP IN PYTHON"
   ]
  },
  {
   "cell_type": "code",
   "execution_count": 169,
   "id": "035ce9e7-1ed6-4fee-bfcd-4837eebf9969",
   "metadata": {},
   "outputs": [
    {
     "name": "stdout",
     "output_type": "stream",
     "text": [
      "0 2 4 6 8 10 12 14 "
     ]
    }
   ],
   "source": [
    "even = [0,2,4,6,8,10,12,14]\n",
    "for n in even:\n",
    "    print(n, end = \" \")"
   ]
  },
  {
   "cell_type": "code",
   "execution_count": 170,
   "id": "012d74f7-82bc-4138-bb1e-c0e2f54e78a3",
   "metadata": {},
   "outputs": [
    {
     "name": "stdout",
     "output_type": "stream",
     "text": [
      "0 1 2 3 4 5 6 7 8 9 "
     ]
    }
   ],
   "source": [
    "# Create a For loop that prints every digit on a new line.\n",
    "digits = [0,1,2,3,4,5,6,7,8,9]\n",
    "for dig in digits:\n",
    "    print(dig, end = \" \")"
   ]
  },
  {
   "cell_type": "markdown",
   "id": "e315d392-5b41-4b14-8eed-104b41a3dc44",
   "metadata": {},
   "source": [
    "# WHILE LOOP"
   ]
  },
  {
   "cell_type": "code",
   "execution_count": 171,
   "id": "b71cadcc-01ee-45bc-b90c-e2b6d8853edf",
   "metadata": {},
   "outputs": [
    {
     "name": "stdout",
     "output_type": "stream",
     "text": [
      "0 2 4 6 8 10 12 14 16 18 20 "
     ]
    }
   ],
   "source": [
    " x = 0\n",
    "while x<=20:\n",
    "    print(x, end = \" \")\n",
    "    x += 2             #Incrementing"
   ]
  },
  {
   "cell_type": "code",
   "execution_count": 172,
   "id": "628cbd10-9082-490a-9921-e5fdd7e01cc7",
   "metadata": {},
   "outputs": [
    {
     "name": "stdout",
     "output_type": "stream",
     "text": [
      "1 3 5 7 9 11 13 15 17 19 21 23 25 27 29 "
     ]
    }
   ],
   "source": [
    "# Create a while loop that will print all odd numbers from 0 to 30 on the same row.\n",
    "x = 1\n",
    "while x<=30:\n",
    "    print(x, end = \" \")\n",
    "    x += 2"
   ]
  },
  {
   "cell_type": "markdown",
   "id": "0fa3745b-21e5-4772-9c36-1ce97e5d23c5",
   "metadata": {},
   "source": [
    "# RANGE FUNCTION"
   ]
  },
  {
   "cell_type": "code",
   "execution_count": 173,
   "id": "ce5836cc-e798-4e78-bd15-5cf4b21b8668",
   "metadata": {},
   "outputs": [
    {
     "data": {
      "text/plain": [
       "range(0, 10)"
      ]
     },
     "execution_count": 173,
     "metadata": {},
     "output_type": "execute_result"
    }
   ],
   "source": [
    "num = range(10)\n",
    "num"
   ]
  },
  {
   "cell_type": "code",
   "execution_count": 174,
   "id": "79fb50fb-d626-4891-99aa-f60bda562857",
   "metadata": {},
   "outputs": [
    {
     "data": {
      "text/plain": [
       "[0, 1, 2, 3, 4, 5, 6, 7, 8, 9]"
      ]
     },
     "execution_count": 174,
     "metadata": {},
     "output_type": "execute_result"
    }
   ],
   "source": [
    "list(num)                       #Use list(range(value)) to display the numbers"
   ]
  },
  {
   "cell_type": "code",
   "execution_count": 175,
   "id": "dc588be5-67d9-4a13-9c0a-2c5033b4ae0b",
   "metadata": {},
   "outputs": [
    {
     "data": {
      "text/plain": [
       "[1, 3, 5, 7, 9]"
      ]
     },
     "execution_count": 175,
     "metadata": {},
     "output_type": "execute_result"
    }
   ],
   "source": [
    "list(range(1,11,2))"
   ]
  },
  {
   "cell_type": "code",
   "execution_count": 176,
   "id": "7fdd764e-64af-44c4-9e10-9c1b55d44353",
   "metadata": {},
   "outputs": [
    {
     "data": {
      "text/plain": [
       "[1, 3, 5, 7, 9]"
      ]
     },
     "execution_count": 176,
     "metadata": {},
     "output_type": "execute_result"
    }
   ],
   "source": [
    "def print_range(a,b,c):\n",
    "    return list(range(a,b,c))\n",
    "\n",
    "print_range(1,11,2)"
   ]
  },
  {
   "cell_type": "code",
   "execution_count": 177,
   "id": "71319cdd-5451-4acd-93c7-991b4bbfdb4a",
   "metadata": {},
   "outputs": [
    {
     "data": {
      "text/plain": [
       "[1, 2, 3, 4, 5, 6, 7, 8, 9, 10]"
      ]
     },
     "execution_count": 177,
     "metadata": {},
     "output_type": "execute_result"
    }
   ],
   "source": [
    "# Use the range() function to create a list with all numbers from 1 to 10.\n",
    "lst_1 = list(range(1,11))\n",
    "lst_1"
   ]
  },
  {
   "cell_type": "code",
   "execution_count": 178,
   "id": "aaf324fb-3ded-46ba-8630-66678b2e76c9",
   "metadata": {},
   "outputs": [
    {
     "data": {
      "text/plain": [
       "[0, 2, 4, 6, 8, 10, 12, 14, 16, 18, 20, 22, 24, 26, 28, 30]"
      ]
     },
     "execution_count": 178,
     "metadata": {},
     "output_type": "execute_result"
    }
   ],
   "source": [
    "list(range(0,31,2))"
   ]
  },
  {
   "cell_type": "code",
   "execution_count": 179,
   "id": "2271dce2-fd4e-413e-925f-6060f2d86b01",
   "metadata": {},
   "outputs": [
    {
     "data": {
      "text/plain": [
       "[0, 1, 2, 3, 4, 5, 6, 7, 8, 9, 10, 11, 12, 13, 14, 15, 16, 17, 18]"
      ]
     },
     "execution_count": 179,
     "metadata": {},
     "output_type": "execute_result"
    }
   ],
   "source": [
    "# Use the range() function to create a list with all numbers from 0 to 19.\n",
    "list(range(0,19))"
   ]
  },
  {
   "cell_type": "code",
   "execution_count": 180,
   "id": "7c88c5c5-4158-4b18-b61d-8bda85843a05",
   "metadata": {},
   "outputs": [
    {
     "data": {
      "text/plain": [
       "[0, 2, 4, 6, 8, 10, 12, 14, 16, 18, 20, 22, 24, 26, 28, 30]"
      ]
     },
     "execution_count": 180,
     "metadata": {},
     "output_type": "execute_result"
    }
   ],
   "source": [
    "# Use the range() function to create a list with all even numbers from 0 to 30 included.\n",
    "list(range(0,31,2))"
   ]
  },
  {
   "cell_type": "code",
   "execution_count": 181,
   "id": "ff5be95f-616d-4b69-923c-f64452a6ac80",
   "metadata": {},
   "outputs": [
    {
     "name": "stdout",
     "output_type": "stream",
     "text": [
      "0 Odd 2 Odd 4 Odd 6 Odd 8 Odd 10 Odd 12 Odd 14 Odd 16 Odd 18 Odd "
     ]
    }
   ],
   "source": [
    "# THis is combination of Loop and Range \n",
    "for x in range(20):\n",
    "    if x%2 == 0:\n",
    "        print(x, end = \" \")\n",
    "    else:\n",
    "        print(\"Odd\", end = \" \")"
   ]
  },
  {
   "cell_type": "code",
   "execution_count": 182,
   "id": "0a9788fe-b6cf-49e4-8e73-584e49f56a9d",
   "metadata": {},
   "outputs": [
    {
     "name": "stdout",
     "output_type": "stream",
     "text": [
      "1 2 3 4 5 6 7 "
     ]
    }
   ],
   "source": [
    "x = [1,2,3,4,5,6,7]\n",
    "for i in x:\n",
    "    print(i, end = \" \")"
   ]
  },
  {
   "cell_type": "code",
   "execution_count": 183,
   "id": "e3e686c4-a182-400e-adf1-78368f68c58b",
   "metadata": {},
   "outputs": [
    {
     "name": "stdout",
     "output_type": "stream",
     "text": [
      "1 2 3 4 5 6 7 "
     ]
    }
   ],
   "source": [
    "for i in range(len(x)):\n",
    "    print(x[i], end = \" \")"
   ]
  },
  {
   "cell_type": "code",
   "execution_count": 184,
   "id": "3c8bf314-9d9c-48ee-8e7e-cfd6d928f13c",
   "metadata": {},
   "outputs": [
    {
     "name": "stdout",
     "output_type": "stream",
     "text": [
      "0 2 4 6 8 10 12 14 16 18 "
     ]
    }
   ],
   "source": [
    "# Create a For loop that will print all the variables from a given list multiplied by 2. Let the list contain all numbers \n",
    "# from 1 to 10. Create it with the help of the range() function.\n",
    "for x in range(10):\n",
    "    print(x*2, end = \" \")"
   ]
  },
  {
   "cell_type": "code",
   "execution_count": 185,
   "id": "2cd1fabf-e2cd-4255-9fbc-1cb38b6e56ec",
   "metadata": {},
   "outputs": [
    {
     "name": "stdout",
     "output_type": "stream",
     "text": [
      "1 Even 3 Even 5 Even 7 Even 9 Even 11 Even 13 Even 15 Even 17 Even 19 Even 21 Even 23 Even 25 Even 27 Even 29 Even "
     ]
    }
   ],
   "source": [
    "# Create a little program that runs a loop over all values from 1 to 30. Let it print all odd numbers, and in the place of the even numbers, it should print \"Even\". \n",
    "# Help yourself with the range() function to solve this exercise.\n",
    "\n",
    "for x in range(1,31):\n",
    "    if x%2 == 1:\n",
    "        print(x, end = \" \")\n",
    "    else:\n",
    "        print(\"Even\", end = \" \")"
   ]
  },
  {
   "cell_type": "code",
   "execution_count": 186,
   "id": "ac071672-51d2-4fea-ae53-acbc37c40950",
   "metadata": {},
   "outputs": [
    {
     "name": "stdout",
     "output_type": "stream",
     "text": [
      "10 20 30 40 50 60 10 20 30 40 50 60 "
     ]
    }
   ],
   "source": [
    "# You have the following list of numbers. Iterate over this list, printing out each list value multiplied by 10. Find two solutions of this problem.\n",
    "n = [1,2,3,4,5,6]\n",
    "for i in n:\n",
    "    print(i*10, end=\" \")\n",
    "    \n",
    "for i in range(len(n)):\n",
    "    print(n[i]*10, end=\" \")"
   ]
  },
  {
   "cell_type": "code",
   "execution_count": 187,
   "id": "93f01c64-5130-4c75-acc3-4796d4dd6207",
   "metadata": {},
   "outputs": [
    {
     "data": {
      "text/plain": [
       "3"
      ]
     },
     "execution_count": 187,
     "metadata": {},
     "output_type": "execute_result"
    }
   ],
   "source": [
    "# Create a function which will return the total count of Numbers less than 20\n",
    "def count(numbers):\n",
    "    total=0\n",
    "    for n in numbers:\n",
    "        if n<20:\n",
    "            total += 1\n",
    "    return total\n",
    "\n",
    "num = [10, 2, 30, 4, 50, 60]\n",
    "count(num)"
   ]
  },
  {
   "cell_type": "code",
   "execution_count": 188,
   "id": "f1f845da-4d30-4539-8319-1b0e23cbefc8",
   "metadata": {},
   "outputs": [
    {
     "data": {
      "text/plain": [
       "4"
      ]
     },
     "execution_count": 188,
     "metadata": {},
     "output_type": "execute_result"
    }
   ],
   "source": [
    "nums = [1,3,5,12,24,31,51,70,100]\n",
    "\n",
    "def count(nums):\n",
    "    x=0 \n",
    "    total=0 \n",
    "    while x< len(nums):\n",
    "        if nums[x]<20:\n",
    "            total += 1\n",
    "        x += 1\n",
    "    return total\n",
    "count(nums)"
   ]
  },
  {
   "cell_type": "markdown",
   "id": "4ec348c3-653b-457c-acc1-2bd081d28233",
   "metadata": {},
   "source": [
    "#  ITERATING OVER THE DICTIONARY"
   ]
  },
  {
   "cell_type": "code",
   "execution_count": 189,
   "id": "1e9afa7f-0865-4ddd-bab9-5f09d22fc01d",
   "metadata": {},
   "outputs": [
    {
     "name": "stdout",
     "output_type": "stream",
     "text": [
      "74\n"
     ]
    }
   ],
   "source": [
    "prices = {\n",
    "    \"sphagetti\" : 4,\n",
    "    \"Lasagna\" : 5,\n",
    "    \"Hamburger\": 2\n",
    "}\n",
    "quantity = {\n",
    "    \"sphagetti\" : 6,\n",
    "    \"Lasagna\" : 10,\n",
    "    \"Hamburger\": 0\n",
    "}\n",
    "\n",
    "total_money = 0\n",
    "for x in prices:\n",
    "    total_money = total_money + (prices[x] * quantity[x])\n",
    "print(total_money)\n",
    "    "
   ]
  },
  {
   "cell_type": "code",
   "execution_count": 190,
   "id": "1556c8d8-9ac8-4000-b1aa-8c650de6dc16",
   "metadata": {},
   "outputs": [
    {
     "name": "stdout",
     "output_type": "stream",
     "text": [
      "50\n"
     ]
    }
   ],
   "source": [
    "# In this exercise you will use the same dictionaries as the ones we used in the lesson - prices and quantity. \n",
    "# This time, don't just calculate all the money Jan spent. Calculate how much she spent on products with a price of 5 dollars or more.\n",
    "\n",
    "prices = {\n",
    "    \"box_of_spaghetti\" : 4,\n",
    "    \"lasagna\"  : 5,\n",
    "    \"hamburger\" : 2\n",
    "   }\n",
    "quantity = {\n",
    "    \"box_of_spaghetti\" : 6,\n",
    "    \"lasagna\"  : 10,\n",
    "    \"hamburger\" : 0\n",
    "    }\n",
    "\n",
    "money_spent = 0\n",
    "for i in prices:\n",
    "    if prices[i]>=5:\n",
    "        money_spent = money_spent + prices[i]*quantity[i]\n",
    "print(money_spent)"
   ]
  },
  {
   "cell_type": "markdown",
   "id": "1d156cff-c859-43b4-8829-81d56694d1a0",
   "metadata": {},
   "source": [
    "# Object Oriented Programming"
   ]
  },
  {
   "cell_type": "markdown",
   "id": "85136c2e-f4f4-46f7-b4da-b9e52ad6d9f6",
   "metadata": {},
   "source": [
    " Classes\n",
    " A class is like a blueprint for creating objects.\n",
    " Objects\n",
    " An object is an instance of a class. When a class is defined, no memory is allocated until an object of that class is created.\n",
    " Attributes\n",
    " Attributes are variables that belong to an object or class. They represent the properties or characteristics of the object."
   ]
  },
  {
   "cell_type": "code",
   "execution_count": 1,
   "id": "1b14c178-7504-4e63-a99d-8c5e97a9ab50",
   "metadata": {},
   "outputs": [],
   "source": [
    "# Modules, Pckages and Python Library\n",
    "# Importing Modules\n",
    "import math\n"
   ]
  },
  {
   "cell_type": "code",
   "execution_count": 2,
   "id": "666163ff-fc47-439b-aaa6-07edd7adbe91",
   "metadata": {},
   "outputs": [
    {
     "data": {
      "text/plain": [
       "2.23606797749979"
      ]
     },
     "execution_count": 2,
     "metadata": {},
     "output_type": "execute_result"
    }
   ],
   "source": [
    "math.sqrt(5)"
   ]
  },
  {
   "cell_type": "code",
   "execution_count": 3,
   "id": "47032567-0052-4a4b-9ef7-309939f7afc3",
   "metadata": {},
   "outputs": [],
   "source": [
    "from math import sqrt"
   ]
  },
  {
   "cell_type": "code",
   "execution_count": 4,
   "id": "2b601337-3af9-472c-8982-3973bb46735d",
   "metadata": {},
   "outputs": [
    {
     "data": {
      "text/plain": [
       "2.23606797749979"
      ]
     },
     "execution_count": 4,
     "metadata": {},
     "output_type": "execute_result"
    }
   ],
   "source": [
    "sqrt(5)\n"
   ]
  },
  {
   "cell_type": "code",
   "execution_count": 5,
   "id": "23309863-9aab-4ab9-8ebe-a423bbef6390",
   "metadata": {},
   "outputs": [],
   "source": [
    "from math import sqrt as s"
   ]
  },
  {
   "cell_type": "code",
   "execution_count": 6,
   "id": "26a369a6-cc14-445b-8bc0-f5b9fc33e498",
   "metadata": {},
   "outputs": [
    {
     "data": {
      "text/plain": [
       "1.7320508075688772"
      ]
     },
     "execution_count": 6,
     "metadata": {},
     "output_type": "execute_result"
    }
   ],
   "source": [
    "s(3)"
   ]
  },
  {
   "cell_type": "code",
   "execution_count": 8,
   "id": "2eb0c2ca-8f25-4851-b4bf-2cb0cc0be87e",
   "metadata": {},
   "outputs": [],
   "source": [
    "from math import *             # \"*\" will import all the methods from module"
   ]
  },
  {
   "cell_type": "code",
   "execution_count": 9,
   "id": "1f9cbf71-90a6-4bb6-961a-ca70ea0ea0ef",
   "metadata": {},
   "outputs": [
    {
     "data": {
      "text/plain": [
       "2.6457513110645907"
      ]
     },
     "execution_count": 9,
     "metadata": {},
     "output_type": "execute_result"
    }
   ],
   "source": [
    "math.sqrt(7)"
   ]
  },
  {
   "cell_type": "markdown",
   "id": "b056e40a-e6fa-4a35-aa95-0e73e5366c0f",
   "metadata": {},
   "source": [
    "# Intro to numpy and pandas library\n",
    "# using numpy will gets you as close as possible to straight mathematics\n",
    "# pandas is powerful Python data analysis toolkit allows us to focus on more analytical task "
   ]
  },
  {
   "cell_type": "code",
   "execution_count": 13,
   "id": "b90405c6-eb2b-4ba2-8c7a-acc1b921b889",
   "metadata": {},
   "outputs": [],
   "source": [
    "import numpy as np"
   ]
  },
  {
   "cell_type": "code",
   "execution_count": 14,
   "id": "9425419c-c101-4f20-8802-bb1cd0d1c7e6",
   "metadata": {},
   "outputs": [
    {
     "data": {
      "text/plain": [
       "'1.26.4'"
      ]
     },
     "execution_count": 14,
     "metadata": {},
     "output_type": "execute_result"
    }
   ],
   "source": [
    "np.__version__"
   ]
  },
  {
   "cell_type": "code",
   "execution_count": 15,
   "id": "240d3c27-6b66-410c-9f22-db4f024db982",
   "metadata": {},
   "outputs": [],
   "source": [
    "import pandas as pd"
   ]
  },
  {
   "cell_type": "code",
   "execution_count": 16,
   "id": "86c8195b-0f91-4969-b1f2-3e35dd396b90",
   "metadata": {},
   "outputs": [
    {
     "data": {
      "text/plain": [
       "'2.1.4'"
      ]
     },
     "execution_count": 16,
     "metadata": {},
     "output_type": "execute_result"
    }
   ],
   "source": [
    "pd.__version__"
   ]
  },
  {
   "cell_type": "markdown",
   "id": "665bc67f-4245-4db7-8e7e-4ca060806ecc",
   "metadata": {},
   "source": [
    "# Mathematics for Python"
   ]
  },
  {
   "cell_type": "code",
   "execution_count": 18,
   "id": "1b6cb0c7-2d4b-47da-b8ab-34d7c17c2775",
   "metadata": {},
   "outputs": [],
   "source": [
    "# m rows and n columns in matrix\n",
    "# ith row and jth column\n",
    "# Scalar: A single number. Example: [6]\n",
    "# Vector: An ordered list of numbers. Example: it has 3 rows and 1 column below is the example of column vector and row vector is side example [ 1 2 3]\n",
    "# [1\n",
    "#  2\n",
    "# 3]\n",
    "# scalar is like point which has no direction and has no size\n",
    "# Vector is like line which has the direction. The direction is always from the origin of the graph to the endpoint"
   ]
  },
  {
   "cell_type": "markdown",
   "id": "e22bb72c-464e-4330-b2bb-ba737922188c",
   "metadata": {},
   "source": [
    "# Arrays in Python"
   ]
  },
  {
   "cell_type": "code",
   "execution_count": 19,
   "id": "2ce09755-0e2b-4f52-b3b2-6244d24b7b5f",
   "metadata": {},
   "outputs": [],
   "source": [
    "# We'll use the numpy library to functionalities as they are optimized for such operations\n",
    "import numpy as np"
   ]
  },
  {
   "cell_type": "code",
   "execution_count": 24,
   "id": "3b5096e3-08da-4dbd-afd3-0203995716ec",
   "metadata": {},
   "outputs": [
    {
     "data": {
      "text/plain": [
       "5"
      ]
     },
     "execution_count": 24,
     "metadata": {},
     "output_type": "execute_result"
    }
   ],
   "source": [
    "# lets create a scalar value \n",
    "s = 5            #where s is scalar\n",
    "s"
   ]
  },
  {
   "cell_type": "code",
   "execution_count": 25,
   "id": "c4ccaf68-1a94-4f3f-b9a9-c00797211458",
   "metadata": {},
   "outputs": [
    {
     "data": {
      "text/plain": [
       "array([ 5, -2,  4])"
      ]
     },
     "execution_count": 25,
     "metadata": {},
     "output_type": "execute_result"
    }
   ],
   "source": [
    "# lets create a vector \n",
    "v = np.array([5,-2,4])            #v is vector here\n",
    "v"
   ]
  },
  {
   "cell_type": "code",
   "execution_count": 28,
   "id": "7f3494cc-b75f-4615-87c0-2dfede75c3f0",
   "metadata": {},
   "outputs": [],
   "source": [
    "#now lets create a matix \n",
    "m = np.array([[5,12,6],[-3,0,4]])\n"
   ]
  },
  {
   "cell_type": "code",
   "execution_count": 30,
   "id": "b7745da8-e53a-435c-a532-d9e50a87e8da",
   "metadata": {},
   "outputs": [
    {
     "data": {
      "text/plain": [
       "array([[ 5, 12,  6],\n",
       "       [-3,  0,  4]])"
      ]
     },
     "execution_count": 30,
     "metadata": {},
     "output_type": "execute_result"
    }
   ],
   "source": [
    "m                          #this is matix we created"
   ]
  },
  {
   "cell_type": "code",
   "execution_count": 31,
   "id": "692859b9-57c1-4814-a232-8f26ba7acd5e",
   "metadata": {},
   "outputs": [
    {
     "data": {
      "text/plain": [
       "int"
      ]
     },
     "execution_count": 31,
     "metadata": {},
     "output_type": "execute_result"
    }
   ],
   "source": [
    "type(s)"
   ]
  },
  {
   "cell_type": "code",
   "execution_count": 32,
   "id": "25197769-f842-4623-9248-2787fe9a9df4",
   "metadata": {},
   "outputs": [
    {
     "data": {
      "text/plain": [
       "numpy.ndarray"
      ]
     },
     "execution_count": 32,
     "metadata": {},
     "output_type": "execute_result"
    }
   ],
   "source": [
    "type(v)             #ndarray standa for the n-dimensional array, v is one-directional array"
   ]
  },
  {
   "cell_type": "code",
   "execution_count": 34,
   "id": "8bba74d4-b59e-42c4-8acb-9d606535a7b0",
   "metadata": {},
   "outputs": [
    {
     "data": {
      "text/plain": [
       "numpy.ndarray"
      ]
     },
     "execution_count": 34,
     "metadata": {},
     "output_type": "execute_result"
    }
   ],
   "source": [
    "type(m)             #ndarray standa for the n-dimensional array, m is two-directional array"
   ]
  },
  {
   "cell_type": "markdown",
   "id": "b97c8b75-38bf-4dc7-b86e-72f7d4b43153",
   "metadata": {},
   "source": [
    "# Data Shapes"
   ]
  },
  {
   "cell_type": "code",
   "execution_count": 37,
   "id": "efc33012-c88d-49a5-88e3-64beeb8085d9",
   "metadata": {},
   "outputs": [
    {
     "data": {
      "text/plain": [
       "(2, 3)"
      ]
     },
     "execution_count": 37,
     "metadata": {},
     "output_type": "execute_result"
    }
   ],
   "source": [
    "# data shapes: which we can apply to our objects to check their dimensioanlity or shape\n",
    "m.shape"
   ]
  },
  {
   "cell_type": "code",
   "execution_count": 38,
   "id": "1d4975fe-a875-4624-9461-0b48d690965e",
   "metadata": {},
   "outputs": [
    {
     "data": {
      "text/plain": [
       "(3,)"
      ]
     },
     "execution_count": 38,
     "metadata": {},
     "output_type": "execute_result"
    }
   ],
   "source": [
    "v.shape"
   ]
  },
  {
   "cell_type": "code",
   "execution_count": 40,
   "id": "23a503b0-a56f-418b-9ba2-4efbe92e1359",
   "metadata": {},
   "outputs": [
    {
     "data": {
      "text/plain": [
       "array([ 5, -2,  4])"
      ]
     },
     "execution_count": 40,
     "metadata": {},
     "output_type": "execute_result"
    }
   ],
   "source": [
    "v"
   ]
  },
  {
   "cell_type": "code",
   "execution_count": 39,
   "id": "658bfb73-6c94-41e5-a045-bdc340d9f424",
   "metadata": {},
   "outputs": [
    {
     "data": {
      "text/plain": [
       "array([[ 5, -2,  4]])"
      ]
     },
     "execution_count": 39,
     "metadata": {},
     "output_type": "execute_result"
    }
   ],
   "source": [
    "# reshape method is used to create a row or column vector\n",
    "v.reshape(1,3)"
   ]
  },
  {
   "cell_type": "code",
   "execution_count": 41,
   "id": "bfa2acd1-b658-4be2-bc12-61bffaff37b6",
   "metadata": {},
   "outputs": [
    {
     "data": {
      "text/plain": [
       "array([[ 5],\n",
       "       [-2],\n",
       "       [ 4]])"
      ]
     },
     "execution_count": 41,
     "metadata": {},
     "output_type": "execute_result"
    }
   ],
   "source": [
    "v.reshape(3,1)"
   ]
  },
  {
   "cell_type": "markdown",
   "id": "25233e41-7125-4c01-b988-430a0a4c8468",
   "metadata": {},
   "source": [
    "# Tensors"
   ]
  },
  {
   "cell_type": "code",
   "execution_count": 42,
   "id": "4c2bfe0f-fb13-4e5f-a027-98d93e13aa11",
   "metadata": {},
   "outputs": [],
   "source": [
    "# A tensor is a mathematical object that generalizes scalars, vectors, and matrices to higher dimensions.\n",
    "# Scalar: A single number (0-dimensional tensor)\n",
    "# Vector: A list of numbers (1-dimensional tensor)\n",
    "# Matrix: A table of numbers with rows and columns (2-dimensional tensor)"
   ]
  },
  {
   "cell_type": "code",
   "execution_count": 44,
   "id": "7d34d836-c606-49e5-921d-b02297fcf57f",
   "metadata": {},
   "outputs": [
    {
     "data": {
      "text/plain": [
       "array([[ 5, 12,  4],\n",
       "       [-3,  0, 11]])"
      ]
     },
     "execution_count": 44,
     "metadata": {},
     "output_type": "execute_result"
    }
   ],
   "source": [
    "m1 = np.array([[5,12,4],[-3,0,11]])\n",
    "m1"
   ]
  },
  {
   "cell_type": "code",
   "execution_count": 45,
   "id": "946d4654-a30a-4396-9b98-634418d5455f",
   "metadata": {},
   "outputs": [
    {
     "data": {
      "text/plain": [
       "array([[2, 4, 6],\n",
       "       [1, 3, 5]])"
      ]
     },
     "execution_count": 45,
     "metadata": {},
     "output_type": "execute_result"
    }
   ],
   "source": [
    "m2 =  np.array([[2,4,6],[1,3,5]])\n",
    "m2"
   ]
  },
  {
   "cell_type": "code",
   "execution_count": 46,
   "id": "f2c8fd0c-217f-4a4e-bc3b-ca59314707ee",
   "metadata": {},
   "outputs": [
    {
     "data": {
      "text/plain": [
       "array([[[ 5, 12,  4],\n",
       "        [-3,  0, 11]],\n",
       "\n",
       "       [[ 2,  4,  6],\n",
       "        [ 1,  3,  5]]])"
      ]
     },
     "execution_count": 46,
     "metadata": {},
     "output_type": "execute_result"
    }
   ],
   "source": [
    "t = np.array([m1,m2])\n",
    "t"
   ]
  },
  {
   "cell_type": "code",
   "execution_count": 47,
   "id": "d035b32d-0aef-4e24-a22c-d8fb959fa820",
   "metadata": {},
   "outputs": [
    {
     "data": {
      "text/plain": [
       "(2, 2, 3)"
      ]
     },
     "execution_count": 47,
     "metadata": {},
     "output_type": "execute_result"
    }
   ],
   "source": [
    "t.shape"
   ]
  },
  {
   "cell_type": "code",
   "execution_count": 49,
   "id": "9514354a-1478-428a-926d-ba765641fed8",
   "metadata": {},
   "outputs": [
    {
     "data": {
      "text/plain": [
       "array([[[1, 3, 5],\n",
       "        [2, 4, 6]],\n",
       "\n",
       "       [[3, 6, 9],\n",
       "        [1, 5, 7]]])"
      ]
     },
     "execution_count": 49,
     "metadata": {},
     "output_type": "execute_result"
    }
   ],
   "source": [
    "#manually creating the tensor\n",
    "t_manual = np.array([[[1,3,5],[2,4,6]],[[3,6,9],[1,5,7]]])\n",
    "t_manual"
   ]
  },
  {
   "cell_type": "markdown",
   "id": "19e5bf22-0370-48ef-9934-3145a645ed22",
   "metadata": {},
   "source": [
    "# Adding and Subtracting the Matrices"
   ]
  },
  {
   "cell_type": "code",
   "execution_count": 50,
   "id": "6a987277-70c1-4669-99d7-831933144e45",
   "metadata": {},
   "outputs": [
    {
     "data": {
      "text/plain": [
       "array([[1, 2, 3],\n",
       "       [4, 5, 6]])"
      ]
     },
     "execution_count": 50,
     "metadata": {},
     "output_type": "execute_result"
    }
   ],
   "source": [
    "# Addition: the condition for addition is the two matrix should have the same dimension\n",
    "m1_add = np.array([[1,2,3],[4,5,6]])\n",
    "m1_add"
   ]
  },
  {
   "cell_type": "code",
   "execution_count": 51,
   "id": "c9ea234d-0ddd-4031-8f7c-c22844d3cbe0",
   "metadata": {},
   "outputs": [
    {
     "data": {
      "text/plain": [
       "array([[ 7,  8,  9],\n",
       "       [10, 11, 12]])"
      ]
     },
     "execution_count": 51,
     "metadata": {},
     "output_type": "execute_result"
    }
   ],
   "source": [
    "m2_add = np.array([[7,8,9],[10,11,12]])\n",
    "m2_add"
   ]
  },
  {
   "cell_type": "code",
   "execution_count": 53,
   "id": "ebe86d3a-4f6c-4818-bb8c-ebfcb23f9c5e",
   "metadata": {},
   "outputs": [
    {
     "data": {
      "text/plain": [
       "array([[ 8, 10, 12],\n",
       "       [14, 16, 18]])"
      ]
     },
     "execution_count": 53,
     "metadata": {},
     "output_type": "execute_result"
    }
   ],
   "source": [
    "m1_add + m2_add"
   ]
  },
  {
   "cell_type": "code",
   "execution_count": 56,
   "id": "b5ce9022-eda6-4e51-a39e-d3bbeb73e8fd",
   "metadata": {},
   "outputs": [],
   "source": [
    "# Subtraction: Same rule is applied as addition\n",
    "m3 = np.array([[5,3],[-2,4]])\n",
    "m4 = np.array([[7,-5],[3,8]])\n"
   ]
  },
  {
   "cell_type": "code",
   "execution_count": 58,
   "id": "9aef0776-6a73-4bf2-be0b-75327b841433",
   "metadata": {},
   "outputs": [
    {
     "data": {
      "text/plain": [
       "array([[-2,  8],\n",
       "       [-5, -4]])"
      ]
     },
     "execution_count": 58,
     "metadata": {},
     "output_type": "execute_result"
    }
   ],
   "source": [
    "m3 - m4\n",
    "# the same rule apply with vector: as the vectors has same length then it can be added or subtracted"
   ]
  },
  {
   "cell_type": "markdown",
   "id": "39435ca2-24bc-4036-886a-986d68549a87",
   "metadata": {},
   "source": [
    "# Exceptions "
   ]
  },
  {
   "cell_type": "code",
   "execution_count": 59,
   "id": "2da4e2e9-9727-462d-96be-782f68e2561c",
   "metadata": {},
   "outputs": [
    {
     "data": {
      "text/plain": [
       "array([[ 5, 12,  4],\n",
       "       [-3,  0, 11]])"
      ]
     },
     "execution_count": 59,
     "metadata": {},
     "output_type": "execute_result"
    }
   ],
   "source": [
    "m1"
   ]
  },
  {
   "cell_type": "code",
   "execution_count": 61,
   "id": "3a241b3f-ad9b-438b-92a6-4166a2f4a65a",
   "metadata": {},
   "outputs": [
    {
     "data": {
      "text/plain": [
       "array([[ 6, 13,  5],\n",
       "       [-2,  1, 12]])"
      ]
     },
     "execution_count": 61,
     "metadata": {},
     "output_type": "execute_result"
    }
   ],
   "source": [
    "# if look below we are adding one single valyue in the matrix 1\n",
    "m1 + 1\n",
    "# as you can see below and above see the difference as we added 1 in each value of matrix"
   ]
  },
  {
   "cell_type": "code",
   "execution_count": 62,
   "id": "db00400f-2d93-4300-9c75-e8afbeeb84b5",
   "metadata": {},
   "outputs": [
    {
     "data": {
      "text/plain": [
       "array([[1, 2, 3],\n",
       "       [4, 5, 6]])"
      ]
     },
     "execution_count": 62,
     "metadata": {},
     "output_type": "execute_result"
    }
   ],
   "source": [
    "# Transpose of Matrix\n",
    "# Transpose: The transpose of a matrix is obtained by swapping its rows and columns.\n",
    "A = np.array([[1,2,3],[4,5,6]])\n",
    "A"
   ]
  },
  {
   "cell_type": "code",
   "execution_count": 63,
   "id": "737f50ab-814e-411f-83d6-3bbe764ba7f7",
   "metadata": {},
   "outputs": [
    {
     "data": {
      "text/plain": [
       "array([[1, 4],\n",
       "       [2, 5],\n",
       "       [3, 6]])"
      ]
     },
     "execution_count": 63,
     "metadata": {},
     "output_type": "execute_result"
    }
   ],
   "source": [
    "A.T                    #T is for transpose"
   ]
  },
  {
   "cell_type": "code",
   "execution_count": 68,
   "id": "01bdabfb-d241-44ea-b5a0-b8caa8708aeb",
   "metadata": {},
   "outputs": [
    {
     "data": {
      "text/plain": [
       "array([2, 4, 6])"
      ]
     },
     "execution_count": 68,
     "metadata": {},
     "output_type": "execute_result"
    }
   ],
   "source": [
    "x = np.array([2,4,6])                    #vectors are not transposed as we can get the same value if we transpose a vector\n",
    "x"
   ]
  },
  {
   "cell_type": "code",
   "execution_count": 69,
   "id": "c38e985a-b77e-4b82-8cbe-579d675e3168",
   "metadata": {},
   "outputs": [
    {
     "data": {
      "text/plain": [
       "array([2, 4, 6])"
      ]
     },
     "execution_count": 69,
     "metadata": {},
     "output_type": "execute_result"
    }
   ],
   "source": [
    "x.T"
   ]
  },
  {
   "cell_type": "code",
   "execution_count": 73,
   "id": "68790c8d-4a8c-453a-9b65-a1d25ee1757e",
   "metadata": {},
   "outputs": [
    {
     "data": {
      "text/plain": [
       "array([1, 2, 3])"
      ]
     },
     "execution_count": 73,
     "metadata": {},
     "output_type": "execute_result"
    }
   ],
   "source": [
    "# Dot products of matrix:The dot product of two matrices involves multiplying the rows of the \n",
    "# first matrix by the columns of the second matrix and summing the products.\n",
    "a = np.array([1,2,3])\n",
    "a"
   ]
  },
  {
   "cell_type": "code",
   "execution_count": 74,
   "id": "cf056f75-be4c-409d-8df3-ffe48a53f51e",
   "metadata": {},
   "outputs": [
    {
     "data": {
      "text/plain": [
       "array([7, 8, 9])"
      ]
     },
     "execution_count": 74,
     "metadata": {},
     "output_type": "execute_result"
    }
   ],
   "source": [
    "b = np.array([7,8,9])\n",
    "b"
   ]
  },
  {
   "cell_type": "code",
   "execution_count": 75,
   "id": "71d33a6a-80ae-4c0e-9d7a-68a4cce76b6a",
   "metadata": {},
   "outputs": [
    {
     "data": {
      "text/plain": [
       "50"
      ]
     },
     "execution_count": 75,
     "metadata": {},
     "output_type": "execute_result"
    }
   ],
   "source": [
    "np.dot(a,b)"
   ]
  },
  {
   "cell_type": "code",
   "execution_count": 76,
   "id": "c4b18025-6936-4098-9622-a252d326d1ac",
   "metadata": {},
   "outputs": [
    {
     "data": {
      "text/plain": [
       "array([[1, 2, 3],\n",
       "       [4, 5, 6]])"
      ]
     },
     "execution_count": 76,
     "metadata": {},
     "output_type": "execute_result"
    }
   ],
   "source": [
    "# While dot product of the matrix, number of columns in the first matrix must be equal to the number of rows in the second matrix.\n",
    "a1 = np.array([[1,2,3],[4,5,6]])\n",
    "a1"
   ]
  },
  {
   "cell_type": "code",
   "execution_count": 80,
   "id": "8076a6b9-0e4b-4ff1-8b29-342a457e9873",
   "metadata": {},
   "outputs": [
    {
     "data": {
      "text/plain": [
       "array([[2, 3],\n",
       "       [4, 5],\n",
       "       [6, 7]])"
      ]
     },
     "execution_count": 80,
     "metadata": {},
     "output_type": "execute_result"
    }
   ],
   "source": [
    "a2 = np.array([[2,3],[4,5],[6,7]])       \n",
    "a2"
   ]
  },
  {
   "cell_type": "code",
   "execution_count": 81,
   "id": "d4d53dfb-f1fa-40db-b04f-70dd17e0a0e5",
   "metadata": {},
   "outputs": [
    {
     "data": {
      "text/plain": [
       "array([[28, 34],\n",
       "       [64, 79]])"
      ]
     },
     "execution_count": 81,
     "metadata": {},
     "output_type": "execute_result"
    }
   ],
   "source": [
    "np.dot(a1,a2)      #m*n is first matrix and n*k is second matrix then we'll get the m*k matric as final output. Where  m rows and n columns in matrix."
   ]
  },
  {
   "cell_type": "markdown",
   "id": "10772fa7-f98c-4f61-b13e-50151dcd4f5c",
   "metadata": {},
   "source": [
    "# NumPy Basics"
   ]
  },
  {
   "cell_type": "code",
   "execution_count": 1,
   "id": "c62795f9-de53-449d-9fe2-b5f33d61ba9c",
   "metadata": {},
   "outputs": [],
   "source": [
    "# Created to tackle the computational problems. It is package in python, main feature is to easy to use and manipuate arrays."
   ]
  },
  {
   "cell_type": "code",
   "execution_count": 2,
   "id": "404cbc81-0cc2-4f89-b7af-73bcd3776b16",
   "metadata": {},
   "outputs": [],
   "source": [
    "import numpy as np"
   ]
  },
  {
   "cell_type": "code",
   "execution_count": 3,
   "id": "641c7dea-a20f-4bea-9b70-f1d325a8770b",
   "metadata": {},
   "outputs": [],
   "source": [
    "# ndarray: N dimensional array\n",
    "# 0 D array is single data point\n",
    "# 1 D array is a sequence of values\n",
    "# 2 D array collection of 1-D sequences\n",
    "array_a = np.array([1,2,3])"
   ]
  },
  {
   "cell_type": "code",
   "execution_count": 5,
   "id": "b1f1c483-6f67-4af3-a524-af6e21ce1c66",
   "metadata": {},
   "outputs": [
    {
     "data": {
      "text/plain": [
       "array([1, 2, 3])"
      ]
     },
     "execution_count": 5,
     "metadata": {},
     "output_type": "execute_result"
    }
   ],
   "source": [
    "array_a                         #1 D array"
   ]
  },
  {
   "cell_type": "code",
   "execution_count": 7,
   "id": "1abc0df4-0479-44ac-a308-109acb7799c9",
   "metadata": {},
   "outputs": [],
   "source": [
    "array_b = np.array([[1,2,3],[4,5,6]])    #2D array"
   ]
  },
  {
   "cell_type": "code",
   "execution_count": 8,
   "id": "33ea8325-8afa-4967-869a-0cf4389b2cb7",
   "metadata": {},
   "outputs": [
    {
     "data": {
      "text/plain": [
       "array([[1, 2, 3],\n",
       "       [4, 5, 6]])"
      ]
     },
     "execution_count": 8,
     "metadata": {},
     "output_type": "execute_result"
    }
   ],
   "source": [
    "array_b"
   ]
  },
  {
   "cell_type": "markdown",
   "id": "0cf3c308-0a5f-4952-bf81-d45f2df85d01",
   "metadata": {},
   "source": [
    "# Intro to Pandas"
   ]
  },
  {
   "cell_type": "code",
   "execution_count": 9,
   "id": "a9fc46c8-b590-4459-b34a-7da8b74475e5",
   "metadata": {},
   "outputs": [],
   "source": [
    "# panel data became pandas"
   ]
  },
  {
   "cell_type": "code",
   "execution_count": 18,
   "id": "147cad5e-98c4-402d-957e-0a58e492c8af",
   "metadata": {},
   "outputs": [
    {
     "ename": "ValueError",
     "evalue": "numpy.dtype size changed, may indicate binary incompatibility. Expected 96 from C header, got 88 from PyObject",
     "output_type": "error",
     "traceback": [
      "\u001b[1;31m---------------------------------------------------------------------------\u001b[0m",
      "\u001b[1;31mValueError\u001b[0m                                Traceback (most recent call last)",
      "Cell \u001b[1;32mIn[18], line 1\u001b[0m\n\u001b[1;32m----> 1\u001b[0m \u001b[38;5;28;01mimport\u001b[39;00m \u001b[38;5;21;01mpandas\u001b[39;00m \u001b[38;5;28;01mas\u001b[39;00m \u001b[38;5;21;01mpd\u001b[39;00m\n",
      "File \u001b[1;32m~\\AppData\\Local\\anaconda3\\Lib\\site-packages\\pandas\\__init__.py:50\u001b[0m\n\u001b[0;32m     43\u001b[0m \u001b[38;5;66;03m# let init-time option registration happen\u001b[39;00m\n\u001b[0;32m     44\u001b[0m \u001b[38;5;28;01mimport\u001b[39;00m \u001b[38;5;21;01mpandas\u001b[39;00m\u001b[38;5;21;01m.\u001b[39;00m\u001b[38;5;21;01mcore\u001b[39;00m\u001b[38;5;21;01m.\u001b[39;00m\u001b[38;5;21;01mconfig_init\u001b[39;00m  \u001b[38;5;66;03m# pyright: ignore[reportUnusedImport] # noqa: F401\u001b[39;00m\n\u001b[0;32m     46\u001b[0m \u001b[38;5;28;01mfrom\u001b[39;00m \u001b[38;5;21;01mpandas\u001b[39;00m\u001b[38;5;21;01m.\u001b[39;00m\u001b[38;5;21;01mcore\u001b[39;00m\u001b[38;5;21;01m.\u001b[39;00m\u001b[38;5;21;01mapi\u001b[39;00m \u001b[38;5;28;01mimport\u001b[39;00m (\n\u001b[0;32m     47\u001b[0m     \u001b[38;5;66;03m# dtype\u001b[39;00m\n\u001b[0;32m     48\u001b[0m     ArrowDtype,\n\u001b[0;32m     49\u001b[0m     Int8Dtype,\n\u001b[1;32m---> 50\u001b[0m     Int16Dtype,\n\u001b[0;32m     51\u001b[0m     Int32Dtype,\n\u001b[0;32m     52\u001b[0m     Int64Dtype,\n\u001b[0;32m     53\u001b[0m     UInt8Dtype,\n\u001b[0;32m     54\u001b[0m     UInt16Dtype,\n\u001b[0;32m     55\u001b[0m     UInt32Dtype,\n\u001b[0;32m     56\u001b[0m     UInt64Dtype,\n\u001b[0;32m     57\u001b[0m     Float32Dtype,\n\u001b[0;32m     58\u001b[0m     Float64Dtype,\n\u001b[0;32m     59\u001b[0m     CategoricalDtype,\n\u001b[0;32m     60\u001b[0m     PeriodDtype,\n\u001b[0;32m     61\u001b[0m     IntervalDtype,\n\u001b[0;32m     62\u001b[0m     DatetimeTZDtype,\n\u001b[0;32m     63\u001b[0m     StringDtype,\n\u001b[0;32m     64\u001b[0m     BooleanDtype,\n\u001b[0;32m     65\u001b[0m     \u001b[38;5;66;03m# missing\u001b[39;00m\n\u001b[0;32m     66\u001b[0m     NA,\n\u001b[0;32m     67\u001b[0m     isna,\n\u001b[0;32m     68\u001b[0m     isnull,\n\u001b[0;32m     69\u001b[0m     notna,\n\u001b[0;32m     70\u001b[0m     notnull,\n\u001b[0;32m     71\u001b[0m     \u001b[38;5;66;03m# indexes\u001b[39;00m\n\u001b[0;32m     72\u001b[0m     Index,\n\u001b[0;32m     73\u001b[0m     CategoricalIndex,\n\u001b[0;32m     74\u001b[0m     RangeIndex,\n\u001b[0;32m     75\u001b[0m     MultiIndex,\n\u001b[0;32m     76\u001b[0m     IntervalIndex,\n\u001b[0;32m     77\u001b[0m     TimedeltaIndex,\n\u001b[0;32m     78\u001b[0m     DatetimeIndex,\n\u001b[0;32m     79\u001b[0m     PeriodIndex,\n\u001b[0;32m     80\u001b[0m     IndexSlice,\n\u001b[0;32m     81\u001b[0m     \u001b[38;5;66;03m# tseries\u001b[39;00m\n\u001b[0;32m     82\u001b[0m     NaT,\n\u001b[0;32m     83\u001b[0m     Period,\n\u001b[0;32m     84\u001b[0m     period_range,\n\u001b[0;32m     85\u001b[0m     Timedelta,\n\u001b[0;32m     86\u001b[0m     timedelta_range,\n\u001b[0;32m     87\u001b[0m     Timestamp,\n\u001b[0;32m     88\u001b[0m     date_range,\n\u001b[0;32m     89\u001b[0m     bdate_range,\n\u001b[0;32m     90\u001b[0m     Interval,\n\u001b[0;32m     91\u001b[0m     interval_range,\n\u001b[0;32m     92\u001b[0m     DateOffset,\n\u001b[0;32m     93\u001b[0m     \u001b[38;5;66;03m# conversion\u001b[39;00m\n\u001b[0;32m     94\u001b[0m     to_numeric,\n\u001b[0;32m     95\u001b[0m     to_datetime,\n\u001b[0;32m     96\u001b[0m     to_timedelta,\n\u001b[0;32m     97\u001b[0m     \u001b[38;5;66;03m# misc\u001b[39;00m\n\u001b[0;32m     98\u001b[0m     Flags,\n\u001b[0;32m     99\u001b[0m     Grouper,\n\u001b[0;32m    100\u001b[0m     factorize,\n\u001b[0;32m    101\u001b[0m     unique,\n\u001b[0;32m    102\u001b[0m     value_counts,\n\u001b[0;32m    103\u001b[0m     NamedAgg,\n\u001b[0;32m    104\u001b[0m     array,\n\u001b[0;32m    105\u001b[0m     Categorical,\n\u001b[0;32m    106\u001b[0m     set_eng_float_format,\n\u001b[0;32m    107\u001b[0m     Series,\n\u001b[0;32m    108\u001b[0m     DataFrame,\n\u001b[0;32m    109\u001b[0m )\n\u001b[0;32m    111\u001b[0m \u001b[38;5;28;01mfrom\u001b[39;00m \u001b[38;5;21;01mpandas\u001b[39;00m\u001b[38;5;21;01m.\u001b[39;00m\u001b[38;5;21;01mcore\u001b[39;00m\u001b[38;5;21;01m.\u001b[39;00m\u001b[38;5;21;01mdtypes\u001b[39;00m\u001b[38;5;21;01m.\u001b[39;00m\u001b[38;5;21;01mdtypes\u001b[39;00m \u001b[38;5;28;01mimport\u001b[39;00m SparseDtype\n\u001b[0;32m    113\u001b[0m \u001b[38;5;28;01mfrom\u001b[39;00m \u001b[38;5;21;01mpandas\u001b[39;00m\u001b[38;5;21;01m.\u001b[39;00m\u001b[38;5;21;01mtseries\u001b[39;00m\u001b[38;5;21;01m.\u001b[39;00m\u001b[38;5;21;01mapi\u001b[39;00m \u001b[38;5;28;01mimport\u001b[39;00m infer_freq\n",
      "File \u001b[1;32m~\\AppData\\Local\\anaconda3\\Lib\\site-packages\\pandas\\_config\\__init__.py:20\u001b[0m\n\u001b[0;32m      8\u001b[0m __all__ \u001b[38;5;241m=\u001b[39m [\n\u001b[0;32m      9\u001b[0m     \u001b[38;5;124m\"\u001b[39m\u001b[38;5;124mconfig\u001b[39m\u001b[38;5;124m\"\u001b[39m,\n\u001b[0;32m     10\u001b[0m     \u001b[38;5;124m\"\u001b[39m\u001b[38;5;124mdetect_console_encoding\u001b[39m\u001b[38;5;124m\"\u001b[39m,\n\u001b[1;32m   (...)\u001b[0m\n\u001b[0;32m     17\u001b[0m     \u001b[38;5;124m\"\u001b[39m\u001b[38;5;124musing_copy_on_write\u001b[39m\u001b[38;5;124m\"\u001b[39m,\n\u001b[0;32m     18\u001b[0m ]\n\u001b[0;32m     19\u001b[0m \u001b[38;5;28;01mfrom\u001b[39;00m \u001b[38;5;21;01mpandas\u001b[39;00m\u001b[38;5;21;01m.\u001b[39;00m\u001b[38;5;21;01m_config\u001b[39;00m \u001b[38;5;28;01mimport\u001b[39;00m config\n\u001b[1;32m---> 20\u001b[0m \u001b[38;5;28;01mfrom\u001b[39;00m \u001b[38;5;21;01mpandas\u001b[39;00m\u001b[38;5;21;01m.\u001b[39;00m\u001b[38;5;21;01m_config\u001b[39;00m \u001b[38;5;28;01mimport\u001b[39;00m dates  \u001b[38;5;66;03m# pyright: ignore[reportUnusedImport]  # noqa: F401\u001b[39;00m\n\u001b[0;32m     21\u001b[0m \u001b[38;5;28;01mfrom\u001b[39;00m \u001b[38;5;21;01mpandas\u001b[39;00m\u001b[38;5;21;01m.\u001b[39;00m\u001b[38;5;21;01m_config\u001b[39;00m\u001b[38;5;21;01m.\u001b[39;00m\u001b[38;5;21;01mconfig\u001b[39;00m \u001b[38;5;28;01mimport\u001b[39;00m (\n\u001b[0;32m     22\u001b[0m     _global_config,\n\u001b[0;32m     23\u001b[0m     describe_option,\n\u001b[1;32m   (...)\u001b[0m\n\u001b[0;32m     28\u001b[0m     set_option,\n\u001b[0;32m     29\u001b[0m )\n\u001b[0;32m     30\u001b[0m \u001b[38;5;28;01mfrom\u001b[39;00m \u001b[38;5;21;01mpandas\u001b[39;00m\u001b[38;5;21;01m.\u001b[39;00m\u001b[38;5;21;01m_config\u001b[39;00m\u001b[38;5;21;01m.\u001b[39;00m\u001b[38;5;21;01mdisplay\u001b[39;00m \u001b[38;5;28;01mimport\u001b[39;00m detect_console_encoding\n",
      "File \u001b[1;32m~\\AppData\\Local\\anaconda3\\Lib\\site-packages\\pandas\\_config\\config.py:68\u001b[0m\n\u001b[0;32m     58\u001b[0m \u001b[38;5;28;01mfrom\u001b[39;00m \u001b[38;5;21;01mtyping\u001b[39;00m \u001b[38;5;28;01mimport\u001b[39;00m (\n\u001b[0;32m     59\u001b[0m     TYPE_CHECKING,\n\u001b[0;32m     60\u001b[0m     Any,\n\u001b[1;32m   (...)\u001b[0m\n\u001b[0;32m     64\u001b[0m     cast,\n\u001b[0;32m     65\u001b[0m )\n\u001b[0;32m     66\u001b[0m \u001b[38;5;28;01mimport\u001b[39;00m \u001b[38;5;21;01mwarnings\u001b[39;00m\n\u001b[1;32m---> 68\u001b[0m \u001b[38;5;28;01mfrom\u001b[39;00m \u001b[38;5;21;01mpandas\u001b[39;00m\u001b[38;5;21;01m.\u001b[39;00m\u001b[38;5;21;01m_typing\u001b[39;00m \u001b[38;5;28;01mimport\u001b[39;00m (\n\u001b[0;32m     69\u001b[0m     F,\n\u001b[0;32m     70\u001b[0m     T,\n\u001b[0;32m     71\u001b[0m )\n\u001b[0;32m     72\u001b[0m \u001b[38;5;28;01mfrom\u001b[39;00m \u001b[38;5;21;01mpandas\u001b[39;00m\u001b[38;5;21;01m.\u001b[39;00m\u001b[38;5;21;01mutil\u001b[39;00m\u001b[38;5;21;01m.\u001b[39;00m\u001b[38;5;21;01m_exceptions\u001b[39;00m \u001b[38;5;28;01mimport\u001b[39;00m find_stack_level\n\u001b[0;32m     74\u001b[0m \u001b[38;5;28;01mif\u001b[39;00m TYPE_CHECKING:\n",
      "File \u001b[1;32m~\\AppData\\Local\\anaconda3\\Lib\\site-packages\\pandas\\_typing.py:198\u001b[0m\n\u001b[0;32m    192\u001b[0m Frequency \u001b[38;5;241m=\u001b[39m Union[\u001b[38;5;28mstr\u001b[39m, \u001b[38;5;124m\"\u001b[39m\u001b[38;5;124mBaseOffset\u001b[39m\u001b[38;5;124m\"\u001b[39m]\n\u001b[0;32m    193\u001b[0m Axes \u001b[38;5;241m=\u001b[39m ListLike\n\u001b[0;32m    195\u001b[0m RandomState \u001b[38;5;241m=\u001b[39m Union[\n\u001b[0;32m    196\u001b[0m     \u001b[38;5;28mint\u001b[39m,\n\u001b[0;32m    197\u001b[0m     np\u001b[38;5;241m.\u001b[39mndarray,\n\u001b[1;32m--> 198\u001b[0m     np\u001b[38;5;241m.\u001b[39mrandom\u001b[38;5;241m.\u001b[39mGenerator,\n\u001b[0;32m    199\u001b[0m     np\u001b[38;5;241m.\u001b[39mrandom\u001b[38;5;241m.\u001b[39mBitGenerator,\n\u001b[0;32m    200\u001b[0m     np\u001b[38;5;241m.\u001b[39mrandom\u001b[38;5;241m.\u001b[39mRandomState,\n\u001b[0;32m    201\u001b[0m ]\n\u001b[0;32m    203\u001b[0m \u001b[38;5;66;03m# dtypes\u001b[39;00m\n\u001b[0;32m    204\u001b[0m NpDtype \u001b[38;5;241m=\u001b[39m Union[\u001b[38;5;28mstr\u001b[39m, np\u001b[38;5;241m.\u001b[39mdtype, type_t[Union[\u001b[38;5;28mstr\u001b[39m, \u001b[38;5;28mcomplex\u001b[39m, \u001b[38;5;28mbool\u001b[39m, \u001b[38;5;28mobject\u001b[39m]]]\n",
      "File \u001b[1;32m~\\AppData\\Local\\anaconda3\\Lib\\site-packages\\numpy\\__init__.py:351\u001b[0m, in \u001b[0;36m__getattr__\u001b[1;34m(attr)\u001b[0m\n\u001b[0;32m    350\u001b[0m \u001b[38;5;28;01mdef\u001b[39;00m \u001b[38;5;21m__dir__\u001b[39m():\n\u001b[1;32m--> 351\u001b[0m     public_symbols \u001b[38;5;241m=\u001b[39m \u001b[38;5;28mglobals\u001b[39m()\u001b[38;5;241m.\u001b[39mkeys() \u001b[38;5;241m|\u001b[39m {\u001b[38;5;124m'\u001b[39m\u001b[38;5;124mtesting\u001b[39m\u001b[38;5;124m'\u001b[39m}\n\u001b[0;32m    352\u001b[0m     public_symbols \u001b[38;5;241m-\u001b[39m\u001b[38;5;241m=\u001b[39m {\n\u001b[0;32m    353\u001b[0m         \u001b[38;5;124m\"\u001b[39m\u001b[38;5;124mcore\u001b[39m\u001b[38;5;124m\"\u001b[39m, \u001b[38;5;124m\"\u001b[39m\u001b[38;5;124mmatrixlib\u001b[39m\u001b[38;5;124m\"\u001b[39m,\n\u001b[0;32m    354\u001b[0m         \u001b[38;5;66;03m# These were moved in 1.25 and may be deprecated eventually:\u001b[39;00m\n\u001b[0;32m    355\u001b[0m         \u001b[38;5;124m\"\u001b[39m\u001b[38;5;124mModuleDeprecationWarning\u001b[39m\u001b[38;5;124m\"\u001b[39m, \u001b[38;5;124m\"\u001b[39m\u001b[38;5;124mVisibleDeprecationWarning\u001b[39m\u001b[38;5;124m\"\u001b[39m,\n\u001b[0;32m    356\u001b[0m         \u001b[38;5;124m\"\u001b[39m\u001b[38;5;124mComplexWarning\u001b[39m\u001b[38;5;124m\"\u001b[39m, \u001b[38;5;124m\"\u001b[39m\u001b[38;5;124mTooHardError\u001b[39m\u001b[38;5;124m\"\u001b[39m, \u001b[38;5;124m\"\u001b[39m\u001b[38;5;124mAxisError\u001b[39m\u001b[38;5;124m\"\u001b[39m\n\u001b[0;32m    357\u001b[0m     }\n\u001b[0;32m    358\u001b[0m     \u001b[38;5;28;01mreturn\u001b[39;00m \u001b[38;5;28mlist\u001b[39m(public_symbols)\n",
      "File \u001b[1;32m~\\AppData\\Local\\anaconda3\\Lib\\site-packages\\numpy\\random\\__init__.py:180\u001b[0m\n\u001b[0;32m    126\u001b[0m __all__ \u001b[38;5;241m=\u001b[39m [\n\u001b[0;32m    127\u001b[0m     \u001b[38;5;124m'\u001b[39m\u001b[38;5;124mbeta\u001b[39m\u001b[38;5;124m'\u001b[39m,\n\u001b[0;32m    128\u001b[0m     \u001b[38;5;124m'\u001b[39m\u001b[38;5;124mbinomial\u001b[39m\u001b[38;5;124m'\u001b[39m,\n\u001b[1;32m   (...)\u001b[0m\n\u001b[0;32m    176\u001b[0m     \u001b[38;5;124m'\u001b[39m\u001b[38;5;124mzipf\u001b[39m\u001b[38;5;124m'\u001b[39m,\n\u001b[0;32m    177\u001b[0m ]\n\u001b[0;32m    179\u001b[0m \u001b[38;5;66;03m# add these for module-freeze analysis (like PyInstaller)\u001b[39;00m\n\u001b[1;32m--> 180\u001b[0m \u001b[38;5;28;01mfrom\u001b[39;00m \u001b[38;5;21;01m.\u001b[39;00m \u001b[38;5;28;01mimport\u001b[39;00m _pickle\n\u001b[0;32m    181\u001b[0m \u001b[38;5;28;01mfrom\u001b[39;00m \u001b[38;5;21;01m.\u001b[39;00m \u001b[38;5;28;01mimport\u001b[39;00m _common\n\u001b[0;32m    182\u001b[0m \u001b[38;5;28;01mfrom\u001b[39;00m \u001b[38;5;21;01m.\u001b[39;00m \u001b[38;5;28;01mimport\u001b[39;00m _bounded_integers\n",
      "File \u001b[1;32m~\\AppData\\Local\\anaconda3\\Lib\\site-packages\\numpy\\random\\_pickle.py:1\u001b[0m\n\u001b[1;32m----> 1\u001b[0m \u001b[38;5;28;01mfrom\u001b[39;00m \u001b[38;5;21;01m.\u001b[39;00m\u001b[38;5;21;01mmtrand\u001b[39;00m \u001b[38;5;28;01mimport\u001b[39;00m RandomState\n\u001b[0;32m      2\u001b[0m \u001b[38;5;28;01mfrom\u001b[39;00m \u001b[38;5;21;01m.\u001b[39;00m\u001b[38;5;21;01m_philox\u001b[39;00m \u001b[38;5;28;01mimport\u001b[39;00m Philox\n\u001b[0;32m      3\u001b[0m \u001b[38;5;28;01mfrom\u001b[39;00m \u001b[38;5;21;01m.\u001b[39;00m\u001b[38;5;21;01m_pcg64\u001b[39;00m \u001b[38;5;28;01mimport\u001b[39;00m PCG64, PCG64DXSM\n",
      "File \u001b[1;32mnumpy\\\\random\\\\mtrand.pyx:1\u001b[0m, in \u001b[0;36minit numpy.random.mtrand\u001b[1;34m()\u001b[0m\n",
      "\u001b[1;31mValueError\u001b[0m: numpy.dtype size changed, may indicate binary incompatibility. Expected 96 from C header, got 88 from PyObject"
     ]
    }
   ],
   "source": [
    "import pandas as pd"
   ]
  },
  {
   "cell_type": "code",
   "execution_count": 15,
   "id": "6eca2493-7773-4d78-8267-8dd1d204eb28",
   "metadata": {},
   "outputs": [
    {
     "data": {
      "text/plain": [
       "'2.0.1'"
      ]
     },
     "execution_count": 15,
     "metadata": {},
     "output_type": "execute_result"
    }
   ],
   "source": [
    "np.__version__"
   ]
  },
  {
   "cell_type": "code",
   "execution_count": 16,
   "id": "70924ac4-7889-4374-8db1-ffff26dec8bc",
   "metadata": {},
   "outputs": [
    {
     "ename": "NameError",
     "evalue": "name 'pd' is not defined",
     "output_type": "error",
     "traceback": [
      "\u001b[1;31m---------------------------------------------------------------------------\u001b[0m",
      "\u001b[1;31mNameError\u001b[0m                                 Traceback (most recent call last)",
      "Cell \u001b[1;32mIn[16], line 1\u001b[0m\n\u001b[1;32m----> 1\u001b[0m pd\u001b[38;5;241m.\u001b[39m__version__\n",
      "\u001b[1;31mNameError\u001b[0m: name 'pd' is not defined"
     ]
    }
   ],
   "source": [
    "pd.__version__"
   ]
  },
  {
   "cell_type": "code",
   "execution_count": null,
   "id": "f466905a-3d14-400e-982f-de5b461ddd03",
   "metadata": {},
   "outputs": [],
   "source": []
  }
 ],
 "metadata": {
  "kernelspec": {
   "display_name": "Python 3 (ipykernel)",
   "language": "python",
   "name": "python3"
  },
  "language_info": {
   "codemirror_mode": {
    "name": "ipython",
    "version": 3
   },
   "file_extension": ".py",
   "mimetype": "text/x-python",
   "name": "python",
   "nbconvert_exporter": "python",
   "pygments_lexer": "ipython3",
   "version": "3.11.7"
  }
 },
 "nbformat": 4,
 "nbformat_minor": 5
}
